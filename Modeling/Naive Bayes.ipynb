{
 "cells": [
  {
   "cell_type": "code",
   "execution_count": 1,
   "metadata": {
    "collapsed": true
   },
   "outputs": [],
   "source": [
    "import numpy as np\n",
    "import pandas as pd\n",
    "import matplotlib.pyplot as plt\n",
    "%matplotlib inline"
   ]
  },
  {
   "cell_type": "code",
   "execution_count": 2,
   "metadata": {
    "collapsed": true
   },
   "outputs": [],
   "source": [
    "BBB_Train_Dec0 = pd.read_pickle(\"BBB_Train_Dec0_ML.pkl\")\n",
    "BBB_Train_Dec1 = pd.read_pickle(\"BBB_Train_Dec1_ML.pkl\")\n",
    "BBB_Train_Dec2 = pd.read_pickle(\"BBB_Train_Dec2_ML.pkl\")\n",
    "BBB_Train_Dec3 = pd.read_pickle(\"BBB_Train_Dec3_ML.pkl\")\n",
    "BBB_Train_Dec4 = pd.read_pickle(\"BBB_Train_Dec4_ML.pkl\")\n",
    "BBB_Train_Dec5 = pd.read_pickle(\"BBB_Train_Dec5_ML.pkl\")\n",
    "BBB_Train_Dec6 = pd.read_pickle(\"BBB_Train_Dec6_ML.pkl\")\n",
    "BBB_Train_Dec7 = pd.read_pickle(\"BBB_Train_Dec7_ML.pkl\")\n",
    "BBB_Train_Dec8 = pd.read_pickle(\"BBB_Train_Dec8_ML.pkl\")\n",
    "BBB_Train_Dec9 = pd.read_pickle(\"BBB_Train_Dec9_ML.pkl\")\n",
    "BBB_Train_Dec10 = pd.read_pickle(\"BBB_Train_Dec10_ML.pkl\")\n",
    "\n",
    "BBB_Test_Dec0 = pd.read_pickle(\"BBB_Test_Dec0_ML.pkl\")\n",
    "BBB_Test_Dec1 = pd.read_pickle(\"BBB_Test_Dec1_ML.pkl\")\n",
    "BBB_Test_Dec2 = pd.read_pickle(\"BBB_Test_Dec2_ML.pkl\")\n",
    "BBB_Test_Dec3 = pd.read_pickle(\"BBB_Test_Dec3_ML.pkl\")\n",
    "BBB_Test_Dec4 = pd.read_pickle(\"BBB_Test_Dec4_ML.pkl\")\n",
    "BBB_Test_Dec5 = pd.read_pickle(\"BBB_Test_Dec5_ML.pkl\")\n",
    "BBB_Test_Dec6 = pd.read_pickle(\"BBB_Test_Dec6_ML.pkl\")\n",
    "BBB_Test_Dec7 = pd.read_pickle(\"BBB_Test_Dec7_ML.pkl\")\n",
    "BBB_Test_Dec8 = pd.read_pickle(\"BBB_Test_Dec8_ML.pkl\")\n",
    "BBB_Test_Dec9 = pd.read_pickle(\"BBB_Test_Dec9_ML.pkl\")\n",
    "BBB_Test_Dec10 = pd.read_pickle(\"BBB_Test_Dec10_ML.pkl\")"
   ]
  },
  {
   "cell_type": "code",
   "execution_count": 3,
   "metadata": {
    "collapsed": true
   },
   "outputs": [],
   "source": [
    "DDD_Train_Dec0 = pd.read_pickle(\"DDD_Train_Dec0_ML.pkl\")\n",
    "DDD_Train_Dec1 = pd.read_pickle(\"DDD_Train_Dec1_ML.pkl\")\n",
    "DDD_Train_Dec2 = pd.read_pickle(\"DDD_Train_Dec2_ML.pkl\")\n",
    "DDD_Train_Dec3 = pd.read_pickle(\"DDD_Train_Dec3_ML.pkl\")\n",
    "DDD_Train_Dec4 = pd.read_pickle(\"DDD_Train_Dec4_ML.pkl\")\n",
    "DDD_Train_Dec5 = pd.read_pickle(\"DDD_Train_Dec5_ML.pkl\")\n",
    "DDD_Train_Dec6 = pd.read_pickle(\"DDD_Train_Dec6_ML.pkl\")\n",
    "DDD_Train_Dec7 = pd.read_pickle(\"DDD_Train_Dec7_ML.pkl\")\n",
    "DDD_Train_Dec8 = pd.read_pickle(\"DDD_Train_Dec8_ML.pkl\")\n",
    "DDD_Train_Dec9 = pd.read_pickle(\"DDD_Train_Dec9_ML.pkl\")\n",
    "DDD_Train_Dec10 = pd.read_pickle(\"DDD_Train_Dec10_ML.pkl\")\n",
    "\n",
    "DDD_Test_Dec0 = pd.read_pickle(\"DDD_Test_Dec0_ML.pkl\")\n",
    "DDD_Test_Dec1 = pd.read_pickle(\"DDD_Test_Dec1_ML.pkl\")\n",
    "DDD_Test_Dec2 = pd.read_pickle(\"DDD_Test_Dec2_ML.pkl\")\n",
    "DDD_Test_Dec3 = pd.read_pickle(\"DDD_Test_Dec3_ML.pkl\")\n",
    "DDD_Test_Dec4 = pd.read_pickle(\"DDD_Test_Dec4_ML.pkl\")\n",
    "DDD_Test_Dec5 = pd.read_pickle(\"DDD_Test_Dec5_ML.pkl\")\n",
    "DDD_Test_Dec6 = pd.read_pickle(\"DDD_Test_Dec6_ML.pkl\")\n",
    "DDD_Test_Dec7 = pd.read_pickle(\"DDD_Test_Dec7_ML.pkl\")\n",
    "DDD_Test_Dec8 = pd.read_pickle(\"DDD_Test_Dec8_ML.pkl\")\n",
    "DDD_Test_Dec9 = pd.read_pickle(\"DDD_Test_Dec9_ML.pkl\")\n",
    "DDD_Test_Dec10 = pd.read_pickle(\"DDD_Test_Dec10_ML.pkl\")"
   ]
  },
  {
   "cell_type": "code",
   "execution_count": 4,
   "metadata": {
    "collapsed": true
   },
   "outputs": [],
   "source": [
    "FFF_Train_Dec0 = pd.read_pickle(\"FFF_Train_Dec0_ML.pkl\")\n",
    "FFF_Train_Dec1 = pd.read_pickle(\"FFF_Train_Dec1_ML.pkl\")\n",
    "FFF_Train_Dec2 = pd.read_pickle(\"FFF_Train_Dec2_ML.pkl\")\n",
    "FFF_Train_Dec3 = pd.read_pickle(\"FFF_Train_Dec3_ML.pkl\")\n",
    "FFF_Train_Dec4 = pd.read_pickle(\"FFF_Train_Dec4_ML.pkl\")\n",
    "FFF_Train_Dec5 = pd.read_pickle(\"FFF_Train_Dec5_ML.pkl\")\n",
    "FFF_Train_Dec6 = pd.read_pickle(\"FFF_Train_Dec6_ML.pkl\")\n",
    "FFF_Train_Dec7 = pd.read_pickle(\"FFF_Train_Dec7_ML.pkl\")\n",
    "FFF_Train_Dec8 = pd.read_pickle(\"FFF_Train_Dec8_ML.pkl\")\n",
    "FFF_Train_Dec9 = pd.read_pickle(\"FFF_Train_Dec9_ML.pkl\")\n",
    "FFF_Train_Dec10 = pd.read_pickle(\"FFF_Train_Dec10_ML.pkl\")\n",
    "\n",
    "FFF_Test_Dec0 = pd.read_pickle(\"FFF_Test_Dec0_ML.pkl\")\n",
    "FFF_Test_Dec1 = pd.read_pickle(\"FFF_Test_Dec1_ML.pkl\")\n",
    "FFF_Test_Dec2 = pd.read_pickle(\"FFF_Test_Dec2_ML.pkl\")\n",
    "FFF_Test_Dec3 = pd.read_pickle(\"FFF_Test_Dec3_ML.pkl\")\n",
    "FFF_Test_Dec4 = pd.read_pickle(\"FFF_Test_Dec4_ML.pkl\")\n",
    "FFF_Test_Dec5 = pd.read_pickle(\"FFF_Test_Dec5_ML.pkl\")\n",
    "FFF_Test_Dec6 = pd.read_pickle(\"FFF_Test_Dec6_ML.pkl\")\n",
    "FFF_Test_Dec7 = pd.read_pickle(\"FFF_Test_Dec7_ML.pkl\")\n",
    "FFF_Test_Dec8 = pd.read_pickle(\"FFF_Test_Dec8_ML.pkl\")\n",
    "FFF_Test_Dec9 = pd.read_pickle(\"FFF_Test_Dec9_ML.pkl\")\n",
    "FFF_Test_Dec10 = pd.read_pickle(\"FFF_Test_Dec10_ML.pkl\")"
   ]
  },
  {
   "cell_type": "code",
   "execution_count": 5,
   "metadata": {},
   "outputs": [
    {
     "data": {
      "text/html": [
       "<div>\n",
       "<style scoped>\n",
       "    .dataframe tbody tr th:only-of-type {\n",
       "        vertical-align: middle;\n",
       "    }\n",
       "\n",
       "    .dataframe tbody tr th {\n",
       "        vertical-align: top;\n",
       "    }\n",
       "\n",
       "    .dataframe thead th {\n",
       "        text-align: right;\n",
       "    }\n",
       "</style>\n",
       "<table border=\"1\" class=\"dataframe\">\n",
       "  <thead>\n",
       "    <tr style=\"text-align: right;\">\n",
       "      <th></th>\n",
       "      <th>code_presentation</th>\n",
       "      <th>identifier</th>\n",
       "      <th>final_result</th>\n",
       "      <th>Avg_score|-23</th>\n",
       "      <th>Avg_score|-22</th>\n",
       "      <th>Avg_score|-21</th>\n",
       "      <th>Avg_score|-20</th>\n",
       "      <th>Avg_score|-19</th>\n",
       "      <th>Avg_score|-18</th>\n",
       "      <th>Avg_score|-17</th>\n",
       "      <th>...</th>\n",
       "      <th>sum_click|-10</th>\n",
       "      <th>sum_click|-9</th>\n",
       "      <th>sum_click|-8</th>\n",
       "      <th>sum_click|-7</th>\n",
       "      <th>sum_click|-6</th>\n",
       "      <th>sum_click|-5</th>\n",
       "      <th>sum_click|-4</th>\n",
       "      <th>sum_click|-3</th>\n",
       "      <th>sum_click|-2</th>\n",
       "      <th>sum_click|-1</th>\n",
       "    </tr>\n",
       "  </thead>\n",
       "  <tbody>\n",
       "    <tr>\n",
       "      <th>0</th>\n",
       "      <td>2013B</td>\n",
       "      <td>BBB 2013B 1008675</td>\n",
       "      <td>1</td>\n",
       "      <td>0.0</td>\n",
       "      <td>0.0</td>\n",
       "      <td>0.0</td>\n",
       "      <td>0.0</td>\n",
       "      <td>0.0</td>\n",
       "      <td>0.0</td>\n",
       "      <td>0.0</td>\n",
       "      <td>...</td>\n",
       "      <td>0.0</td>\n",
       "      <td>0.000000</td>\n",
       "      <td>0.000000</td>\n",
       "      <td>0.000000</td>\n",
       "      <td>0.000000</td>\n",
       "      <td>0.380493</td>\n",
       "      <td>0.349141</td>\n",
       "      <td>0.000000</td>\n",
       "      <td>0.000000</td>\n",
       "      <td>0.154360</td>\n",
       "    </tr>\n",
       "    <tr>\n",
       "      <th>1</th>\n",
       "      <td>2013B</td>\n",
       "      <td>BBB 2013B 104054</td>\n",
       "      <td>1</td>\n",
       "      <td>0.0</td>\n",
       "      <td>0.0</td>\n",
       "      <td>0.0</td>\n",
       "      <td>0.0</td>\n",
       "      <td>0.0</td>\n",
       "      <td>0.0</td>\n",
       "      <td>0.0</td>\n",
       "      <td>...</td>\n",
       "      <td>0.0</td>\n",
       "      <td>0.000000</td>\n",
       "      <td>0.499543</td>\n",
       "      <td>0.154360</td>\n",
       "      <td>0.000000</td>\n",
       "      <td>0.000000</td>\n",
       "      <td>0.000000</td>\n",
       "      <td>0.000000</td>\n",
       "      <td>0.000000</td>\n",
       "      <td>0.000000</td>\n",
       "    </tr>\n",
       "    <tr>\n",
       "      <th>2</th>\n",
       "      <td>2013B</td>\n",
       "      <td>BBB 2013B 108377</td>\n",
       "      <td>1</td>\n",
       "      <td>0.0</td>\n",
       "      <td>0.0</td>\n",
       "      <td>0.0</td>\n",
       "      <td>0.0</td>\n",
       "      <td>0.0</td>\n",
       "      <td>0.0</td>\n",
       "      <td>0.0</td>\n",
       "      <td>...</td>\n",
       "      <td>0.0</td>\n",
       "      <td>0.625856</td>\n",
       "      <td>0.570511</td>\n",
       "      <td>0.389561</td>\n",
       "      <td>0.336915</td>\n",
       "      <td>0.000000</td>\n",
       "      <td>0.468190</td>\n",
       "      <td>0.452267</td>\n",
       "      <td>0.336915</td>\n",
       "      <td>0.446531</td>\n",
       "    </tr>\n",
       "    <tr>\n",
       "      <th>3</th>\n",
       "      <td>2013B</td>\n",
       "      <td>BBB 2013B 108589</td>\n",
       "      <td>1</td>\n",
       "      <td>0.0</td>\n",
       "      <td>0.0</td>\n",
       "      <td>0.0</td>\n",
       "      <td>0.0</td>\n",
       "      <td>0.0</td>\n",
       "      <td>0.0</td>\n",
       "      <td>0.0</td>\n",
       "      <td>...</td>\n",
       "      <td>0.0</td>\n",
       "      <td>0.194781</td>\n",
       "      <td>0.000000</td>\n",
       "      <td>0.000000</td>\n",
       "      <td>0.000000</td>\n",
       "      <td>0.380493</td>\n",
       "      <td>0.000000</td>\n",
       "      <td>0.000000</td>\n",
       "      <td>0.000000</td>\n",
       "      <td>0.000000</td>\n",
       "    </tr>\n",
       "    <tr>\n",
       "      <th>4</th>\n",
       "      <td>2013B</td>\n",
       "      <td>BBB 2013B 1098728</td>\n",
       "      <td>0</td>\n",
       "      <td>0.0</td>\n",
       "      <td>0.0</td>\n",
       "      <td>0.0</td>\n",
       "      <td>0.0</td>\n",
       "      <td>0.0</td>\n",
       "      <td>0.0</td>\n",
       "      <td>0.0</td>\n",
       "      <td>...</td>\n",
       "      <td>0.0</td>\n",
       "      <td>0.000000</td>\n",
       "      <td>0.292171</td>\n",
       "      <td>0.000000</td>\n",
       "      <td>0.000000</td>\n",
       "      <td>0.000000</td>\n",
       "      <td>0.336915</td>\n",
       "      <td>0.000000</td>\n",
       "      <td>0.000000</td>\n",
       "      <td>0.000000</td>\n",
       "    </tr>\n",
       "    <tr>\n",
       "      <th>5</th>\n",
       "      <td>2013B</td>\n",
       "      <td>BBB 2013B 109938</td>\n",
       "      <td>1</td>\n",
       "      <td>0.0</td>\n",
       "      <td>0.0</td>\n",
       "      <td>0.0</td>\n",
       "      <td>0.0</td>\n",
       "      <td>0.0</td>\n",
       "      <td>0.0</td>\n",
       "      <td>0.0</td>\n",
       "      <td>...</td>\n",
       "      <td>0.0</td>\n",
       "      <td>0.000000</td>\n",
       "      <td>0.000000</td>\n",
       "      <td>0.000000</td>\n",
       "      <td>0.000000</td>\n",
       "      <td>0.000000</td>\n",
       "      <td>0.000000</td>\n",
       "      <td>0.000000</td>\n",
       "      <td>0.000000</td>\n",
       "      <td>0.000000</td>\n",
       "    </tr>\n",
       "    <tr>\n",
       "      <th>6</th>\n",
       "      <td>2013B</td>\n",
       "      <td>BBB 2013B 110881</td>\n",
       "      <td>1</td>\n",
       "      <td>0.0</td>\n",
       "      <td>0.0</td>\n",
       "      <td>0.0</td>\n",
       "      <td>0.0</td>\n",
       "      <td>0.0</td>\n",
       "      <td>0.0</td>\n",
       "      <td>0.0</td>\n",
       "      <td>...</td>\n",
       "      <td>0.0</td>\n",
       "      <td>0.000000</td>\n",
       "      <td>0.000000</td>\n",
       "      <td>0.000000</td>\n",
       "      <td>0.000000</td>\n",
       "      <td>0.000000</td>\n",
       "      <td>0.000000</td>\n",
       "      <td>0.000000</td>\n",
       "      <td>0.000000</td>\n",
       "      <td>0.000000</td>\n",
       "    </tr>\n",
       "    <tr>\n",
       "      <th>7</th>\n",
       "      <td>2013B</td>\n",
       "      <td>BBB 2013B 116603</td>\n",
       "      <td>1</td>\n",
       "      <td>0.0</td>\n",
       "      <td>0.0</td>\n",
       "      <td>0.0</td>\n",
       "      <td>0.0</td>\n",
       "      <td>0.0</td>\n",
       "      <td>0.0</td>\n",
       "      <td>0.0</td>\n",
       "      <td>...</td>\n",
       "      <td>0.0</td>\n",
       "      <td>0.273409</td>\n",
       "      <td>0.000000</td>\n",
       "      <td>0.000000</td>\n",
       "      <td>0.000000</td>\n",
       "      <td>0.549657</td>\n",
       "      <td>0.389561</td>\n",
       "      <td>0.349141</td>\n",
       "      <td>0.194781</td>\n",
       "      <td>0.000000</td>\n",
       "    </tr>\n",
       "    <tr>\n",
       "      <th>8</th>\n",
       "      <td>2013B</td>\n",
       "      <td>BBB 2013B 117071</td>\n",
       "      <td>0</td>\n",
       "      <td>0.0</td>\n",
       "      <td>0.0</td>\n",
       "      <td>0.0</td>\n",
       "      <td>0.0</td>\n",
       "      <td>0.0</td>\n",
       "      <td>0.0</td>\n",
       "      <td>0.0</td>\n",
       "      <td>...</td>\n",
       "      <td>0.0</td>\n",
       "      <td>0.000000</td>\n",
       "      <td>0.000000</td>\n",
       "      <td>0.000000</td>\n",
       "      <td>0.000000</td>\n",
       "      <td>0.000000</td>\n",
       "      <td>0.000000</td>\n",
       "      <td>0.000000</td>\n",
       "      <td>0.000000</td>\n",
       "      <td>0.000000</td>\n",
       "    </tr>\n",
       "    <tr>\n",
       "      <th>9</th>\n",
       "      <td>2013B</td>\n",
       "      <td>BBB 2013B 120994</td>\n",
       "      <td>0</td>\n",
       "      <td>0.0</td>\n",
       "      <td>0.0</td>\n",
       "      <td>0.0</td>\n",
       "      <td>0.0</td>\n",
       "      <td>0.0</td>\n",
       "      <td>0.0</td>\n",
       "      <td>0.0</td>\n",
       "      <td>...</td>\n",
       "      <td>0.0</td>\n",
       "      <td>0.000000</td>\n",
       "      <td>0.000000</td>\n",
       "      <td>0.000000</td>\n",
       "      <td>0.000000</td>\n",
       "      <td>0.000000</td>\n",
       "      <td>0.000000</td>\n",
       "      <td>0.000000</td>\n",
       "      <td>0.000000</td>\n",
       "      <td>0.000000</td>\n",
       "    </tr>\n",
       "    <tr>\n",
       "      <th>10</th>\n",
       "      <td>2013B</td>\n",
       "      <td>BBB 2013B 123860</td>\n",
       "      <td>1</td>\n",
       "      <td>0.0</td>\n",
       "      <td>0.0</td>\n",
       "      <td>0.0</td>\n",
       "      <td>0.0</td>\n",
       "      <td>0.0</td>\n",
       "      <td>0.0</td>\n",
       "      <td>0.0</td>\n",
       "      <td>...</td>\n",
       "      <td>0.0</td>\n",
       "      <td>0.349141</td>\n",
       "      <td>0.540963</td>\n",
       "      <td>0.273409</td>\n",
       "      <td>0.000000</td>\n",
       "      <td>0.273409</td>\n",
       "      <td>0.000000</td>\n",
       "      <td>0.273409</td>\n",
       "      <td>0.292171</td>\n",
       "      <td>0.000000</td>\n",
       "    </tr>\n",
       "    <tr>\n",
       "      <th>11</th>\n",
       "      <td>2013B</td>\n",
       "      <td>BBB 2013B 126322</td>\n",
       "      <td>1</td>\n",
       "      <td>0.0</td>\n",
       "      <td>0.0</td>\n",
       "      <td>0.0</td>\n",
       "      <td>0.0</td>\n",
       "      <td>0.0</td>\n",
       "      <td>0.0</td>\n",
       "      <td>0.0</td>\n",
       "      <td>...</td>\n",
       "      <td>0.0</td>\n",
       "      <td>0.000000</td>\n",
       "      <td>0.000000</td>\n",
       "      <td>0.000000</td>\n",
       "      <td>0.000000</td>\n",
       "      <td>0.323524</td>\n",
       "      <td>0.000000</td>\n",
       "      <td>0.000000</td>\n",
       "      <td>0.000000</td>\n",
       "      <td>0.000000</td>\n",
       "    </tr>\n",
       "    <tr>\n",
       "      <th>12</th>\n",
       "      <td>2013B</td>\n",
       "      <td>BBB 2013B 126411</td>\n",
       "      <td>0</td>\n",
       "      <td>0.0</td>\n",
       "      <td>0.0</td>\n",
       "      <td>0.0</td>\n",
       "      <td>0.0</td>\n",
       "      <td>0.0</td>\n",
       "      <td>0.0</td>\n",
       "      <td>0.0</td>\n",
       "      <td>...</td>\n",
       "      <td>0.0</td>\n",
       "      <td>0.000000</td>\n",
       "      <td>0.000000</td>\n",
       "      <td>0.000000</td>\n",
       "      <td>0.000000</td>\n",
       "      <td>0.000000</td>\n",
       "      <td>0.000000</td>\n",
       "      <td>0.000000</td>\n",
       "      <td>0.000000</td>\n",
       "      <td>0.000000</td>\n",
       "    </tr>\n",
       "    <tr>\n",
       "      <th>13</th>\n",
       "      <td>2013B</td>\n",
       "      <td>BBB 2013B 133155</td>\n",
       "      <td>1</td>\n",
       "      <td>0.0</td>\n",
       "      <td>0.0</td>\n",
       "      <td>0.0</td>\n",
       "      <td>0.0</td>\n",
       "      <td>0.0</td>\n",
       "      <td>0.0</td>\n",
       "      <td>0.0</td>\n",
       "      <td>...</td>\n",
       "      <td>0.0</td>\n",
       "      <td>0.000000</td>\n",
       "      <td>0.000000</td>\n",
       "      <td>0.000000</td>\n",
       "      <td>0.000000</td>\n",
       "      <td>0.000000</td>\n",
       "      <td>0.000000</td>\n",
       "      <td>0.000000</td>\n",
       "      <td>0.000000</td>\n",
       "      <td>0.000000</td>\n",
       "    </tr>\n",
       "    <tr>\n",
       "      <th>14</th>\n",
       "      <td>2013B</td>\n",
       "      <td>BBB 2013B 133748</td>\n",
       "      <td>0</td>\n",
       "      <td>0.0</td>\n",
       "      <td>0.0</td>\n",
       "      <td>0.0</td>\n",
       "      <td>0.0</td>\n",
       "      <td>0.0</td>\n",
       "      <td>0.0</td>\n",
       "      <td>0.0</td>\n",
       "      <td>...</td>\n",
       "      <td>0.0</td>\n",
       "      <td>0.534854</td>\n",
       "      <td>0.000000</td>\n",
       "      <td>0.000000</td>\n",
       "      <td>0.000000</td>\n",
       "      <td>0.427769</td>\n",
       "      <td>0.194781</td>\n",
       "      <td>0.097390</td>\n",
       "      <td>0.389561</td>\n",
       "      <td>0.097390</td>\n",
       "    </tr>\n",
       "    <tr>\n",
       "      <th>15</th>\n",
       "      <td>2013B</td>\n",
       "      <td>BBB 2013B 142324</td>\n",
       "      <td>0</td>\n",
       "      <td>0.0</td>\n",
       "      <td>0.0</td>\n",
       "      <td>0.0</td>\n",
       "      <td>0.0</td>\n",
       "      <td>0.0</td>\n",
       "      <td>0.0</td>\n",
       "      <td>0.0</td>\n",
       "      <td>...</td>\n",
       "      <td>0.0</td>\n",
       "      <td>0.000000</td>\n",
       "      <td>0.000000</td>\n",
       "      <td>0.000000</td>\n",
       "      <td>0.000000</td>\n",
       "      <td>0.000000</td>\n",
       "      <td>0.000000</td>\n",
       "      <td>0.000000</td>\n",
       "      <td>0.000000</td>\n",
       "      <td>0.000000</td>\n",
       "    </tr>\n",
       "    <tr>\n",
       "      <th>16</th>\n",
       "      <td>2013B</td>\n",
       "      <td>BBB 2013B 1436591</td>\n",
       "      <td>1</td>\n",
       "      <td>0.0</td>\n",
       "      <td>0.0</td>\n",
       "      <td>0.0</td>\n",
       "      <td>0.0</td>\n",
       "      <td>0.0</td>\n",
       "      <td>0.0</td>\n",
       "      <td>0.0</td>\n",
       "      <td>...</td>\n",
       "      <td>0.0</td>\n",
       "      <td>0.000000</td>\n",
       "      <td>0.000000</td>\n",
       "      <td>0.000000</td>\n",
       "      <td>0.413707</td>\n",
       "      <td>0.000000</td>\n",
       "      <td>0.000000</td>\n",
       "      <td>0.000000</td>\n",
       "      <td>0.000000</td>\n",
       "      <td>0.194781</td>\n",
       "    </tr>\n",
       "    <tr>\n",
       "      <th>17</th>\n",
       "      <td>2013B</td>\n",
       "      <td>BBB 2013B 143741</td>\n",
       "      <td>1</td>\n",
       "      <td>0.0</td>\n",
       "      <td>0.0</td>\n",
       "      <td>0.0</td>\n",
       "      <td>0.0</td>\n",
       "      <td>0.0</td>\n",
       "      <td>0.0</td>\n",
       "      <td>0.0</td>\n",
       "      <td>...</td>\n",
       "      <td>0.0</td>\n",
       "      <td>0.000000</td>\n",
       "      <td>0.154360</td>\n",
       "      <td>0.000000</td>\n",
       "      <td>0.000000</td>\n",
       "      <td>0.000000</td>\n",
       "      <td>0.495470</td>\n",
       "      <td>0.503501</td>\n",
       "      <td>0.000000</td>\n",
       "      <td>0.154360</td>\n",
       "    </tr>\n",
       "    <tr>\n",
       "      <th>18</th>\n",
       "      <td>2013B</td>\n",
       "      <td>BBB 2013B 145544</td>\n",
       "      <td>1</td>\n",
       "      <td>0.0</td>\n",
       "      <td>0.0</td>\n",
       "      <td>0.0</td>\n",
       "      <td>0.0</td>\n",
       "      <td>0.0</td>\n",
       "      <td>0.0</td>\n",
       "      <td>0.0</td>\n",
       "      <td>...</td>\n",
       "      <td>0.0</td>\n",
       "      <td>0.000000</td>\n",
       "      <td>0.000000</td>\n",
       "      <td>0.000000</td>\n",
       "      <td>0.000000</td>\n",
       "      <td>0.000000</td>\n",
       "      <td>0.000000</td>\n",
       "      <td>0.000000</td>\n",
       "      <td>0.000000</td>\n",
       "      <td>0.000000</td>\n",
       "    </tr>\n",
       "    <tr>\n",
       "      <th>19</th>\n",
       "      <td>2013B</td>\n",
       "      <td>BBB 2013B 147876</td>\n",
       "      <td>0</td>\n",
       "      <td>0.0</td>\n",
       "      <td>0.0</td>\n",
       "      <td>0.0</td>\n",
       "      <td>0.0</td>\n",
       "      <td>0.0</td>\n",
       "      <td>0.0</td>\n",
       "      <td>0.0</td>\n",
       "      <td>...</td>\n",
       "      <td>0.0</td>\n",
       "      <td>0.000000</td>\n",
       "      <td>0.000000</td>\n",
       "      <td>0.000000</td>\n",
       "      <td>0.000000</td>\n",
       "      <td>0.000000</td>\n",
       "      <td>0.000000</td>\n",
       "      <td>0.000000</td>\n",
       "      <td>0.000000</td>\n",
       "      <td>0.000000</td>\n",
       "    </tr>\n",
       "    <tr>\n",
       "      <th>20</th>\n",
       "      <td>2013B</td>\n",
       "      <td>BBB 2013B 1480800</td>\n",
       "      <td>1</td>\n",
       "      <td>0.0</td>\n",
       "      <td>0.0</td>\n",
       "      <td>0.0</td>\n",
       "      <td>0.0</td>\n",
       "      <td>0.0</td>\n",
       "      <td>0.0</td>\n",
       "      <td>0.0</td>\n",
       "      <td>...</td>\n",
       "      <td>0.0</td>\n",
       "      <td>0.000000</td>\n",
       "      <td>0.000000</td>\n",
       "      <td>0.000000</td>\n",
       "      <td>0.000000</td>\n",
       "      <td>0.000000</td>\n",
       "      <td>0.000000</td>\n",
       "      <td>0.251750</td>\n",
       "      <td>0.000000</td>\n",
       "      <td>0.000000</td>\n",
       "    </tr>\n",
       "    <tr>\n",
       "      <th>21</th>\n",
       "      <td>2013B</td>\n",
       "      <td>BBB 2013B 1493476</td>\n",
       "      <td>1</td>\n",
       "      <td>0.0</td>\n",
       "      <td>0.0</td>\n",
       "      <td>0.0</td>\n",
       "      <td>0.0</td>\n",
       "      <td>0.0</td>\n",
       "      <td>0.0</td>\n",
       "      <td>0.0</td>\n",
       "      <td>...</td>\n",
       "      <td>0.0</td>\n",
       "      <td>0.000000</td>\n",
       "      <td>0.000000</td>\n",
       "      <td>0.000000</td>\n",
       "      <td>0.000000</td>\n",
       "      <td>0.000000</td>\n",
       "      <td>0.000000</td>\n",
       "      <td>0.000000</td>\n",
       "      <td>0.000000</td>\n",
       "      <td>0.000000</td>\n",
       "    </tr>\n",
       "    <tr>\n",
       "      <th>22</th>\n",
       "      <td>2013B</td>\n",
       "      <td>BBB 2013B 151697</td>\n",
       "      <td>1</td>\n",
       "      <td>0.0</td>\n",
       "      <td>0.0</td>\n",
       "      <td>0.0</td>\n",
       "      <td>0.0</td>\n",
       "      <td>0.0</td>\n",
       "      <td>0.0</td>\n",
       "      <td>0.0</td>\n",
       "      <td>...</td>\n",
       "      <td>0.0</td>\n",
       "      <td>0.000000</td>\n",
       "      <td>0.000000</td>\n",
       "      <td>0.000000</td>\n",
       "      <td>0.000000</td>\n",
       "      <td>0.457777</td>\n",
       "      <td>0.000000</td>\n",
       "      <td>0.000000</td>\n",
       "      <td>0.000000</td>\n",
       "      <td>0.000000</td>\n",
       "    </tr>\n",
       "    <tr>\n",
       "      <th>23</th>\n",
       "      <td>2013B</td>\n",
       "      <td>BBB 2013B 1521540</td>\n",
       "      <td>1</td>\n",
       "      <td>0.0</td>\n",
       "      <td>0.0</td>\n",
       "      <td>0.0</td>\n",
       "      <td>0.0</td>\n",
       "      <td>0.0</td>\n",
       "      <td>0.0</td>\n",
       "      <td>0.0</td>\n",
       "      <td>...</td>\n",
       "      <td>0.0</td>\n",
       "      <td>0.000000</td>\n",
       "      <td>0.000000</td>\n",
       "      <td>0.000000</td>\n",
       "      <td>0.000000</td>\n",
       "      <td>0.000000</td>\n",
       "      <td>0.000000</td>\n",
       "      <td>0.000000</td>\n",
       "      <td>0.000000</td>\n",
       "      <td>0.000000</td>\n",
       "    </tr>\n",
       "    <tr>\n",
       "      <th>24</th>\n",
       "      <td>2013B</td>\n",
       "      <td>BBB 2013B 152910</td>\n",
       "      <td>1</td>\n",
       "      <td>0.0</td>\n",
       "      <td>0.0</td>\n",
       "      <td>0.0</td>\n",
       "      <td>0.0</td>\n",
       "      <td>0.0</td>\n",
       "      <td>0.0</td>\n",
       "      <td>0.0</td>\n",
       "      <td>...</td>\n",
       "      <td>0.0</td>\n",
       "      <td>0.000000</td>\n",
       "      <td>0.000000</td>\n",
       "      <td>0.000000</td>\n",
       "      <td>0.000000</td>\n",
       "      <td>0.226133</td>\n",
       "      <td>0.097390</td>\n",
       "      <td>0.000000</td>\n",
       "      <td>0.292171</td>\n",
       "      <td>0.097390</td>\n",
       "    </tr>\n",
       "    <tr>\n",
       "      <th>25</th>\n",
       "      <td>2013B</td>\n",
       "      <td>BBB 2013B 152929</td>\n",
       "      <td>1</td>\n",
       "      <td>0.0</td>\n",
       "      <td>0.0</td>\n",
       "      <td>0.0</td>\n",
       "      <td>0.0</td>\n",
       "      <td>0.0</td>\n",
       "      <td>0.0</td>\n",
       "      <td>0.0</td>\n",
       "      <td>...</td>\n",
       "      <td>0.0</td>\n",
       "      <td>0.000000</td>\n",
       "      <td>0.000000</td>\n",
       "      <td>0.000000</td>\n",
       "      <td>0.000000</td>\n",
       "      <td>0.000000</td>\n",
       "      <td>0.000000</td>\n",
       "      <td>0.000000</td>\n",
       "      <td>0.000000</td>\n",
       "      <td>0.000000</td>\n",
       "    </tr>\n",
       "    <tr>\n",
       "      <th>26</th>\n",
       "      <td>2013B</td>\n",
       "      <td>BBB 2013B 153212</td>\n",
       "      <td>1</td>\n",
       "      <td>0.0</td>\n",
       "      <td>0.0</td>\n",
       "      <td>0.0</td>\n",
       "      <td>0.0</td>\n",
       "      <td>0.0</td>\n",
       "      <td>0.0</td>\n",
       "      <td>0.0</td>\n",
       "      <td>...</td>\n",
       "      <td>0.0</td>\n",
       "      <td>0.000000</td>\n",
       "      <td>0.000000</td>\n",
       "      <td>0.000000</td>\n",
       "      <td>0.000000</td>\n",
       "      <td>0.000000</td>\n",
       "      <td>0.000000</td>\n",
       "      <td>0.000000</td>\n",
       "      <td>0.000000</td>\n",
       "      <td>0.000000</td>\n",
       "    </tr>\n",
       "    <tr>\n",
       "      <th>27</th>\n",
       "      <td>2013B</td>\n",
       "      <td>BBB 2013B 154027</td>\n",
       "      <td>1</td>\n",
       "      <td>0.0</td>\n",
       "      <td>0.0</td>\n",
       "      <td>0.0</td>\n",
       "      <td>0.0</td>\n",
       "      <td>0.0</td>\n",
       "      <td>0.0</td>\n",
       "      <td>0.0</td>\n",
       "      <td>...</td>\n",
       "      <td>0.0</td>\n",
       "      <td>0.000000</td>\n",
       "      <td>0.308720</td>\n",
       "      <td>0.000000</td>\n",
       "      <td>0.370800</td>\n",
       "      <td>0.000000</td>\n",
       "      <td>0.000000</td>\n",
       "      <td>0.360387</td>\n",
       "      <td>0.000000</td>\n",
       "      <td>0.000000</td>\n",
       "    </tr>\n",
       "    <tr>\n",
       "      <th>28</th>\n",
       "      <td>2013B</td>\n",
       "      <td>BBB 2013B 154125</td>\n",
       "      <td>0</td>\n",
       "      <td>0.0</td>\n",
       "      <td>0.0</td>\n",
       "      <td>0.0</td>\n",
       "      <td>0.0</td>\n",
       "      <td>0.0</td>\n",
       "      <td>0.0</td>\n",
       "      <td>0.0</td>\n",
       "      <td>...</td>\n",
       "      <td>0.0</td>\n",
       "      <td>0.000000</td>\n",
       "      <td>0.000000</td>\n",
       "      <td>0.000000</td>\n",
       "      <td>0.000000</td>\n",
       "      <td>0.000000</td>\n",
       "      <td>0.000000</td>\n",
       "      <td>0.000000</td>\n",
       "      <td>0.000000</td>\n",
       "      <td>0.000000</td>\n",
       "    </tr>\n",
       "    <tr>\n",
       "      <th>29</th>\n",
       "      <td>2013B</td>\n",
       "      <td>BBB 2013B 154540</td>\n",
       "      <td>1</td>\n",
       "      <td>0.0</td>\n",
       "      <td>0.0</td>\n",
       "      <td>0.0</td>\n",
       "      <td>0.0</td>\n",
       "      <td>0.0</td>\n",
       "      <td>0.0</td>\n",
       "      <td>0.0</td>\n",
       "      <td>...</td>\n",
       "      <td>0.0</td>\n",
       "      <td>0.273409</td>\n",
       "      <td>0.000000</td>\n",
       "      <td>0.000000</td>\n",
       "      <td>0.000000</td>\n",
       "      <td>0.000000</td>\n",
       "      <td>0.000000</td>\n",
       "      <td>0.000000</td>\n",
       "      <td>0.000000</td>\n",
       "      <td>0.000000</td>\n",
       "    </tr>\n",
       "    <tr>\n",
       "      <th>...</th>\n",
       "      <td>...</td>\n",
       "      <td>...</td>\n",
       "      <td>...</td>\n",
       "      <td>...</td>\n",
       "      <td>...</td>\n",
       "      <td>...</td>\n",
       "      <td>...</td>\n",
       "      <td>...</td>\n",
       "      <td>...</td>\n",
       "      <td>...</td>\n",
       "      <td>...</td>\n",
       "      <td>...</td>\n",
       "      <td>...</td>\n",
       "      <td>...</td>\n",
       "      <td>...</td>\n",
       "      <td>...</td>\n",
       "      <td>...</td>\n",
       "      <td>...</td>\n",
       "      <td>...</td>\n",
       "      <td>...</td>\n",
       "      <td>...</td>\n",
       "    </tr>\n",
       "    <tr>\n",
       "      <th>3829</th>\n",
       "      <td>2014B</td>\n",
       "      <td>BBB 2014B 635136</td>\n",
       "      <td>1</td>\n",
       "      <td>0.0</td>\n",
       "      <td>0.0</td>\n",
       "      <td>0.0</td>\n",
       "      <td>0.0</td>\n",
       "      <td>0.0</td>\n",
       "      <td>0.0</td>\n",
       "      <td>0.0</td>\n",
       "      <td>...</td>\n",
       "      <td>0.0</td>\n",
       "      <td>0.000000</td>\n",
       "      <td>0.000000</td>\n",
       "      <td>0.000000</td>\n",
       "      <td>0.273409</td>\n",
       "      <td>0.370800</td>\n",
       "      <td>0.000000</td>\n",
       "      <td>0.000000</td>\n",
       "      <td>0.000000</td>\n",
       "      <td>0.000000</td>\n",
       "    </tr>\n",
       "    <tr>\n",
       "      <th>3830</th>\n",
       "      <td>2014B</td>\n",
       "      <td>BBB 2014B 635173</td>\n",
       "      <td>1</td>\n",
       "      <td>0.0</td>\n",
       "      <td>0.0</td>\n",
       "      <td>0.0</td>\n",
       "      <td>0.0</td>\n",
       "      <td>0.0</td>\n",
       "      <td>0.0</td>\n",
       "      <td>0.0</td>\n",
       "      <td>...</td>\n",
       "      <td>0.0</td>\n",
       "      <td>0.557844</td>\n",
       "      <td>0.097390</td>\n",
       "      <td>0.194781</td>\n",
       "      <td>0.000000</td>\n",
       "      <td>0.491275</td>\n",
       "      <td>0.440551</td>\n",
       "      <td>0.482491</td>\n",
       "      <td>0.000000</td>\n",
       "      <td>0.420914</td>\n",
       "    </tr>\n",
       "    <tr>\n",
       "      <th>3831</th>\n",
       "      <td>2014B</td>\n",
       "      <td>BBB 2014B 635228</td>\n",
       "      <td>1</td>\n",
       "      <td>0.0</td>\n",
       "      <td>0.0</td>\n",
       "      <td>0.0</td>\n",
       "      <td>0.0</td>\n",
       "      <td>0.0</td>\n",
       "      <td>0.0</td>\n",
       "      <td>0.0</td>\n",
       "      <td>...</td>\n",
       "      <td>0.0</td>\n",
       "      <td>0.000000</td>\n",
       "      <td>0.000000</td>\n",
       "      <td>0.000000</td>\n",
       "      <td>0.000000</td>\n",
       "      <td>0.000000</td>\n",
       "      <td>0.000000</td>\n",
       "      <td>0.000000</td>\n",
       "      <td>0.000000</td>\n",
       "      <td>0.000000</td>\n",
       "    </tr>\n",
       "    <tr>\n",
       "      <th>3832</th>\n",
       "      <td>2014B</td>\n",
       "      <td>BBB 2014B 635230</td>\n",
       "      <td>1</td>\n",
       "      <td>0.0</td>\n",
       "      <td>0.0</td>\n",
       "      <td>0.0</td>\n",
       "      <td>0.0</td>\n",
       "      <td>0.0</td>\n",
       "      <td>0.0</td>\n",
       "      <td>0.0</td>\n",
       "      <td>...</td>\n",
       "      <td>0.0</td>\n",
       "      <td>0.000000</td>\n",
       "      <td>0.570511</td>\n",
       "      <td>0.000000</td>\n",
       "      <td>0.000000</td>\n",
       "      <td>0.000000</td>\n",
       "      <td>0.000000</td>\n",
       "      <td>0.468190</td>\n",
       "      <td>0.000000</td>\n",
       "      <td>0.406110</td>\n",
       "    </tr>\n",
       "    <tr>\n",
       "      <th>3833</th>\n",
       "      <td>2014B</td>\n",
       "      <td>BBB 2014B 635241</td>\n",
       "      <td>1</td>\n",
       "      <td>0.0</td>\n",
       "      <td>0.0</td>\n",
       "      <td>0.0</td>\n",
       "      <td>0.0</td>\n",
       "      <td>0.0</td>\n",
       "      <td>0.0</td>\n",
       "      <td>0.0</td>\n",
       "      <td>...</td>\n",
       "      <td>0.0</td>\n",
       "      <td>0.477884</td>\n",
       "      <td>0.000000</td>\n",
       "      <td>0.434306</td>\n",
       "      <td>0.000000</td>\n",
       "      <td>0.000000</td>\n",
       "      <td>0.000000</td>\n",
       "      <td>0.000000</td>\n",
       "      <td>0.000000</td>\n",
       "      <td>0.000000</td>\n",
       "    </tr>\n",
       "    <tr>\n",
       "      <th>3834</th>\n",
       "      <td>2014B</td>\n",
       "      <td>BBB 2014B 635244</td>\n",
       "      <td>1</td>\n",
       "      <td>0.0</td>\n",
       "      <td>0.0</td>\n",
       "      <td>0.0</td>\n",
       "      <td>0.0</td>\n",
       "      <td>0.0</td>\n",
       "      <td>0.0</td>\n",
       "      <td>0.0</td>\n",
       "      <td>...</td>\n",
       "      <td>0.0</td>\n",
       "      <td>0.380493</td>\n",
       "      <td>0.000000</td>\n",
       "      <td>0.000000</td>\n",
       "      <td>0.000000</td>\n",
       "      <td>0.097390</td>\n",
       "      <td>0.000000</td>\n",
       "      <td>0.000000</td>\n",
       "      <td>0.000000</td>\n",
       "      <td>0.000000</td>\n",
       "    </tr>\n",
       "    <tr>\n",
       "      <th>3835</th>\n",
       "      <td>2014B</td>\n",
       "      <td>BBB 2014B 635246</td>\n",
       "      <td>0</td>\n",
       "      <td>0.0</td>\n",
       "      <td>0.0</td>\n",
       "      <td>0.0</td>\n",
       "      <td>0.0</td>\n",
       "      <td>0.0</td>\n",
       "      <td>0.0</td>\n",
       "      <td>0.0</td>\n",
       "      <td>...</td>\n",
       "      <td>0.0</td>\n",
       "      <td>0.000000</td>\n",
       "      <td>0.000000</td>\n",
       "      <td>0.000000</td>\n",
       "      <td>0.000000</td>\n",
       "      <td>0.000000</td>\n",
       "      <td>0.000000</td>\n",
       "      <td>0.000000</td>\n",
       "      <td>0.000000</td>\n",
       "      <td>0.000000</td>\n",
       "    </tr>\n",
       "    <tr>\n",
       "      <th>3836</th>\n",
       "      <td>2014B</td>\n",
       "      <td>BBB 2014B 635247</td>\n",
       "      <td>1</td>\n",
       "      <td>0.0</td>\n",
       "      <td>0.0</td>\n",
       "      <td>0.0</td>\n",
       "      <td>0.0</td>\n",
       "      <td>0.0</td>\n",
       "      <td>0.0</td>\n",
       "      <td>0.0</td>\n",
       "      <td>...</td>\n",
       "      <td>0.0</td>\n",
       "      <td>0.000000</td>\n",
       "      <td>0.000000</td>\n",
       "      <td>0.000000</td>\n",
       "      <td>0.000000</td>\n",
       "      <td>0.000000</td>\n",
       "      <td>0.000000</td>\n",
       "      <td>0.000000</td>\n",
       "      <td>0.000000</td>\n",
       "      <td>0.000000</td>\n",
       "    </tr>\n",
       "    <tr>\n",
       "      <th>3837</th>\n",
       "      <td>2014B</td>\n",
       "      <td>BBB 2014B 635432</td>\n",
       "      <td>0</td>\n",
       "      <td>0.0</td>\n",
       "      <td>0.0</td>\n",
       "      <td>0.0</td>\n",
       "      <td>0.0</td>\n",
       "      <td>0.0</td>\n",
       "      <td>0.0</td>\n",
       "      <td>0.0</td>\n",
       "      <td>...</td>\n",
       "      <td>0.0</td>\n",
       "      <td>0.000000</td>\n",
       "      <td>0.000000</td>\n",
       "      <td>0.000000</td>\n",
       "      <td>0.000000</td>\n",
       "      <td>0.000000</td>\n",
       "      <td>0.000000</td>\n",
       "      <td>0.000000</td>\n",
       "      <td>0.000000</td>\n",
       "      <td>0.000000</td>\n",
       "    </tr>\n",
       "    <tr>\n",
       "      <th>3838</th>\n",
       "      <td>2014B</td>\n",
       "      <td>BBB 2014B 635433</td>\n",
       "      <td>1</td>\n",
       "      <td>0.0</td>\n",
       "      <td>0.0</td>\n",
       "      <td>0.0</td>\n",
       "      <td>0.0</td>\n",
       "      <td>0.0</td>\n",
       "      <td>0.0</td>\n",
       "      <td>0.0</td>\n",
       "      <td>...</td>\n",
       "      <td>0.0</td>\n",
       "      <td>0.000000</td>\n",
       "      <td>0.000000</td>\n",
       "      <td>0.000000</td>\n",
       "      <td>0.000000</td>\n",
       "      <td>0.000000</td>\n",
       "      <td>0.389561</td>\n",
       "      <td>0.323524</td>\n",
       "      <td>0.000000</td>\n",
       "      <td>0.000000</td>\n",
       "    </tr>\n",
       "    <tr>\n",
       "      <th>3839</th>\n",
       "      <td>2014B</td>\n",
       "      <td>BBB 2014B 635435</td>\n",
       "      <td>1</td>\n",
       "      <td>0.0</td>\n",
       "      <td>0.0</td>\n",
       "      <td>0.0</td>\n",
       "      <td>0.0</td>\n",
       "      <td>0.0</td>\n",
       "      <td>0.0</td>\n",
       "      <td>0.0</td>\n",
       "      <td>...</td>\n",
       "      <td>0.0</td>\n",
       "      <td>0.000000</td>\n",
       "      <td>0.000000</td>\n",
       "      <td>0.000000</td>\n",
       "      <td>0.482491</td>\n",
       "      <td>0.000000</td>\n",
       "      <td>0.000000</td>\n",
       "      <td>0.000000</td>\n",
       "      <td>0.000000</td>\n",
       "      <td>0.000000</td>\n",
       "    </tr>\n",
       "    <tr>\n",
       "      <th>3840</th>\n",
       "      <td>2014B</td>\n",
       "      <td>BBB 2014B 635473</td>\n",
       "      <td>0</td>\n",
       "      <td>0.0</td>\n",
       "      <td>0.0</td>\n",
       "      <td>0.0</td>\n",
       "      <td>0.0</td>\n",
       "      <td>0.0</td>\n",
       "      <td>0.0</td>\n",
       "      <td>0.0</td>\n",
       "      <td>...</td>\n",
       "      <td>0.0</td>\n",
       "      <td>0.000000</td>\n",
       "      <td>0.000000</td>\n",
       "      <td>0.389561</td>\n",
       "      <td>0.000000</td>\n",
       "      <td>0.000000</td>\n",
       "      <td>0.000000</td>\n",
       "      <td>0.000000</td>\n",
       "      <td>0.000000</td>\n",
       "      <td>0.000000</td>\n",
       "    </tr>\n",
       "    <tr>\n",
       "      <th>3841</th>\n",
       "      <td>2014B</td>\n",
       "      <td>BBB 2014B 635591</td>\n",
       "      <td>1</td>\n",
       "      <td>0.0</td>\n",
       "      <td>0.0</td>\n",
       "      <td>0.0</td>\n",
       "      <td>0.0</td>\n",
       "      <td>0.0</td>\n",
       "      <td>0.0</td>\n",
       "      <td>0.0</td>\n",
       "      <td>...</td>\n",
       "      <td>0.0</td>\n",
       "      <td>0.000000</td>\n",
       "      <td>0.446531</td>\n",
       "      <td>0.000000</td>\n",
       "      <td>0.000000</td>\n",
       "      <td>0.000000</td>\n",
       "      <td>0.000000</td>\n",
       "      <td>0.000000</td>\n",
       "      <td>0.000000</td>\n",
       "      <td>0.000000</td>\n",
       "    </tr>\n",
       "    <tr>\n",
       "      <th>3842</th>\n",
       "      <td>2014B</td>\n",
       "      <td>BBB 2014B 635755</td>\n",
       "      <td>1</td>\n",
       "      <td>0.0</td>\n",
       "      <td>0.0</td>\n",
       "      <td>0.0</td>\n",
       "      <td>0.0</td>\n",
       "      <td>0.0</td>\n",
       "      <td>0.0</td>\n",
       "      <td>0.0</td>\n",
       "      <td>...</td>\n",
       "      <td>0.0</td>\n",
       "      <td>0.473121</td>\n",
       "      <td>0.000000</td>\n",
       "      <td>0.000000</td>\n",
       "      <td>0.360387</td>\n",
       "      <td>0.000000</td>\n",
       "      <td>0.000000</td>\n",
       "      <td>0.000000</td>\n",
       "      <td>0.000000</td>\n",
       "      <td>0.000000</td>\n",
       "    </tr>\n",
       "    <tr>\n",
       "      <th>3843</th>\n",
       "      <td>2014B</td>\n",
       "      <td>BBB 2014B 635761</td>\n",
       "      <td>1</td>\n",
       "      <td>0.0</td>\n",
       "      <td>0.0</td>\n",
       "      <td>0.0</td>\n",
       "      <td>0.0</td>\n",
       "      <td>0.0</td>\n",
       "      <td>0.0</td>\n",
       "      <td>0.0</td>\n",
       "      <td>...</td>\n",
       "      <td>0.0</td>\n",
       "      <td>0.000000</td>\n",
       "      <td>0.000000</td>\n",
       "      <td>0.000000</td>\n",
       "      <td>0.000000</td>\n",
       "      <td>0.000000</td>\n",
       "      <td>0.000000</td>\n",
       "      <td>0.000000</td>\n",
       "      <td>0.000000</td>\n",
       "      <td>0.000000</td>\n",
       "    </tr>\n",
       "    <tr>\n",
       "      <th>3844</th>\n",
       "      <td>2014B</td>\n",
       "      <td>BBB 2014B 635764</td>\n",
       "      <td>1</td>\n",
       "      <td>0.0</td>\n",
       "      <td>0.0</td>\n",
       "      <td>0.0</td>\n",
       "      <td>0.0</td>\n",
       "      <td>0.0</td>\n",
       "      <td>0.0</td>\n",
       "      <td>0.0</td>\n",
       "      <td>...</td>\n",
       "      <td>0.0</td>\n",
       "      <td>0.273409</td>\n",
       "      <td>0.000000</td>\n",
       "      <td>0.000000</td>\n",
       "      <td>0.251750</td>\n",
       "      <td>0.000000</td>\n",
       "      <td>0.336915</td>\n",
       "      <td>0.420914</td>\n",
       "      <td>0.000000</td>\n",
       "      <td>0.000000</td>\n",
       "    </tr>\n",
       "    <tr>\n",
       "      <th>3845</th>\n",
       "      <td>2014B</td>\n",
       "      <td>BBB 2014B 635771</td>\n",
       "      <td>1</td>\n",
       "      <td>0.0</td>\n",
       "      <td>0.0</td>\n",
       "      <td>0.0</td>\n",
       "      <td>0.0</td>\n",
       "      <td>0.0</td>\n",
       "      <td>0.0</td>\n",
       "      <td>0.0</td>\n",
       "      <td>...</td>\n",
       "      <td>0.0</td>\n",
       "      <td>0.000000</td>\n",
       "      <td>0.000000</td>\n",
       "      <td>0.000000</td>\n",
       "      <td>0.000000</td>\n",
       "      <td>0.000000</td>\n",
       "      <td>0.000000</td>\n",
       "      <td>0.000000</td>\n",
       "      <td>0.000000</td>\n",
       "      <td>0.000000</td>\n",
       "    </tr>\n",
       "    <tr>\n",
       "      <th>3846</th>\n",
       "      <td>2014B</td>\n",
       "      <td>BBB 2014B 635773</td>\n",
       "      <td>1</td>\n",
       "      <td>0.0</td>\n",
       "      <td>0.0</td>\n",
       "      <td>0.0</td>\n",
       "      <td>0.0</td>\n",
       "      <td>0.0</td>\n",
       "      <td>0.0</td>\n",
       "      <td>0.0</td>\n",
       "      <td>...</td>\n",
       "      <td>0.0</td>\n",
       "      <td>0.000000</td>\n",
       "      <td>0.000000</td>\n",
       "      <td>0.000000</td>\n",
       "      <td>0.000000</td>\n",
       "      <td>0.000000</td>\n",
       "      <td>0.000000</td>\n",
       "      <td>0.000000</td>\n",
       "      <td>0.000000</td>\n",
       "      <td>0.000000</td>\n",
       "    </tr>\n",
       "    <tr>\n",
       "      <th>3847</th>\n",
       "      <td>2014B</td>\n",
       "      <td>BBB 2014B 635774</td>\n",
       "      <td>1</td>\n",
       "      <td>0.0</td>\n",
       "      <td>0.0</td>\n",
       "      <td>0.0</td>\n",
       "      <td>0.0</td>\n",
       "      <td>0.0</td>\n",
       "      <td>0.0</td>\n",
       "      <td>0.0</td>\n",
       "      <td>...</td>\n",
       "      <td>0.0</td>\n",
       "      <td>0.000000</td>\n",
       "      <td>0.000000</td>\n",
       "      <td>0.000000</td>\n",
       "      <td>0.000000</td>\n",
       "      <td>0.000000</td>\n",
       "      <td>0.000000</td>\n",
       "      <td>0.000000</td>\n",
       "      <td>0.000000</td>\n",
       "      <td>0.154360</td>\n",
       "    </tr>\n",
       "    <tr>\n",
       "      <th>3848</th>\n",
       "      <td>2014B</td>\n",
       "      <td>BBB 2014B 635788</td>\n",
       "      <td>1</td>\n",
       "      <td>0.0</td>\n",
       "      <td>0.0</td>\n",
       "      <td>0.0</td>\n",
       "      <td>0.0</td>\n",
       "      <td>0.0</td>\n",
       "      <td>0.0</td>\n",
       "      <td>0.0</td>\n",
       "      <td>...</td>\n",
       "      <td>0.0</td>\n",
       "      <td>0.000000</td>\n",
       "      <td>0.000000</td>\n",
       "      <td>0.000000</td>\n",
       "      <td>0.000000</td>\n",
       "      <td>0.000000</td>\n",
       "      <td>0.000000</td>\n",
       "      <td>0.000000</td>\n",
       "      <td>0.000000</td>\n",
       "      <td>0.000000</td>\n",
       "    </tr>\n",
       "    <tr>\n",
       "      <th>3849</th>\n",
       "      <td>2014B</td>\n",
       "      <td>BBB 2014B 63721</td>\n",
       "      <td>1</td>\n",
       "      <td>0.0</td>\n",
       "      <td>0.0</td>\n",
       "      <td>0.0</td>\n",
       "      <td>0.0</td>\n",
       "      <td>0.0</td>\n",
       "      <td>0.0</td>\n",
       "      <td>0.0</td>\n",
       "      <td>...</td>\n",
       "      <td>0.0</td>\n",
       "      <td>0.000000</td>\n",
       "      <td>0.370800</td>\n",
       "      <td>0.323524</td>\n",
       "      <td>0.000000</td>\n",
       "      <td>0.000000</td>\n",
       "      <td>0.000000</td>\n",
       "      <td>0.000000</td>\n",
       "      <td>0.370800</td>\n",
       "      <td>0.251750</td>\n",
       "    </tr>\n",
       "    <tr>\n",
       "      <th>3850</th>\n",
       "      <td>2014B</td>\n",
       "      <td>BBB 2014B 64275</td>\n",
       "      <td>1</td>\n",
       "      <td>0.0</td>\n",
       "      <td>0.0</td>\n",
       "      <td>0.0</td>\n",
       "      <td>0.0</td>\n",
       "      <td>0.0</td>\n",
       "      <td>0.0</td>\n",
       "      <td>0.0</td>\n",
       "      <td>...</td>\n",
       "      <td>0.0</td>\n",
       "      <td>0.000000</td>\n",
       "      <td>0.000000</td>\n",
       "      <td>0.000000</td>\n",
       "      <td>0.000000</td>\n",
       "      <td>0.000000</td>\n",
       "      <td>0.000000</td>\n",
       "      <td>0.000000</td>\n",
       "      <td>0.000000</td>\n",
       "      <td>0.000000</td>\n",
       "    </tr>\n",
       "    <tr>\n",
       "      <th>3851</th>\n",
       "      <td>2014B</td>\n",
       "      <td>BBB 2014B 72400</td>\n",
       "      <td>1</td>\n",
       "      <td>0.0</td>\n",
       "      <td>0.0</td>\n",
       "      <td>0.0</td>\n",
       "      <td>0.0</td>\n",
       "      <td>0.0</td>\n",
       "      <td>0.0</td>\n",
       "      <td>0.0</td>\n",
       "      <td>...</td>\n",
       "      <td>0.0</td>\n",
       "      <td>0.000000</td>\n",
       "      <td>0.406110</td>\n",
       "      <td>0.000000</td>\n",
       "      <td>0.097390</td>\n",
       "      <td>0.000000</td>\n",
       "      <td>0.000000</td>\n",
       "      <td>0.000000</td>\n",
       "      <td>0.000000</td>\n",
       "      <td>0.000000</td>\n",
       "    </tr>\n",
       "    <tr>\n",
       "      <th>3852</th>\n",
       "      <td>2014B</td>\n",
       "      <td>BBB 2014B 78255</td>\n",
       "      <td>0</td>\n",
       "      <td>0.0</td>\n",
       "      <td>0.0</td>\n",
       "      <td>0.0</td>\n",
       "      <td>0.0</td>\n",
       "      <td>0.0</td>\n",
       "      <td>0.0</td>\n",
       "      <td>0.0</td>\n",
       "      <td>...</td>\n",
       "      <td>0.0</td>\n",
       "      <td>0.000000</td>\n",
       "      <td>0.000000</td>\n",
       "      <td>0.000000</td>\n",
       "      <td>0.000000</td>\n",
       "      <td>0.000000</td>\n",
       "      <td>0.000000</td>\n",
       "      <td>0.000000</td>\n",
       "      <td>0.336915</td>\n",
       "      <td>0.000000</td>\n",
       "    </tr>\n",
       "    <tr>\n",
       "      <th>3853</th>\n",
       "      <td>2014B</td>\n",
       "      <td>BBB 2014B 89092</td>\n",
       "      <td>1</td>\n",
       "      <td>0.0</td>\n",
       "      <td>0.0</td>\n",
       "      <td>0.0</td>\n",
       "      <td>0.0</td>\n",
       "      <td>0.0</td>\n",
       "      <td>0.0</td>\n",
       "      <td>0.0</td>\n",
       "      <td>...</td>\n",
       "      <td>0.0</td>\n",
       "      <td>0.000000</td>\n",
       "      <td>0.000000</td>\n",
       "      <td>0.000000</td>\n",
       "      <td>0.000000</td>\n",
       "      <td>0.000000</td>\n",
       "      <td>0.000000</td>\n",
       "      <td>0.000000</td>\n",
       "      <td>0.000000</td>\n",
       "      <td>0.000000</td>\n",
       "    </tr>\n",
       "    <tr>\n",
       "      <th>3854</th>\n",
       "      <td>2014B</td>\n",
       "      <td>BBB 2014B 89778</td>\n",
       "      <td>1</td>\n",
       "      <td>0.0</td>\n",
       "      <td>0.0</td>\n",
       "      <td>0.0</td>\n",
       "      <td>0.0</td>\n",
       "      <td>0.0</td>\n",
       "      <td>0.0</td>\n",
       "      <td>0.0</td>\n",
       "      <td>...</td>\n",
       "      <td>0.0</td>\n",
       "      <td>0.000000</td>\n",
       "      <td>0.000000</td>\n",
       "      <td>0.000000</td>\n",
       "      <td>0.000000</td>\n",
       "      <td>0.000000</td>\n",
       "      <td>0.000000</td>\n",
       "      <td>0.000000</td>\n",
       "      <td>0.413707</td>\n",
       "      <td>0.000000</td>\n",
       "    </tr>\n",
       "    <tr>\n",
       "      <th>3855</th>\n",
       "      <td>2014B</td>\n",
       "      <td>BBB 2014B 90361</td>\n",
       "      <td>1</td>\n",
       "      <td>0.0</td>\n",
       "      <td>0.0</td>\n",
       "      <td>0.0</td>\n",
       "      <td>0.0</td>\n",
       "      <td>0.0</td>\n",
       "      <td>0.0</td>\n",
       "      <td>0.0</td>\n",
       "      <td>...</td>\n",
       "      <td>0.0</td>\n",
       "      <td>0.251750</td>\n",
       "      <td>0.000000</td>\n",
       "      <td>0.000000</td>\n",
       "      <td>0.000000</td>\n",
       "      <td>0.000000</td>\n",
       "      <td>0.000000</td>\n",
       "      <td>0.000000</td>\n",
       "      <td>0.000000</td>\n",
       "      <td>0.000000</td>\n",
       "    </tr>\n",
       "    <tr>\n",
       "      <th>3856</th>\n",
       "      <td>2014B</td>\n",
       "      <td>BBB 2014B 92341</td>\n",
       "      <td>0</td>\n",
       "      <td>0.0</td>\n",
       "      <td>0.0</td>\n",
       "      <td>0.0</td>\n",
       "      <td>0.0</td>\n",
       "      <td>0.0</td>\n",
       "      <td>0.0</td>\n",
       "      <td>0.0</td>\n",
       "      <td>...</td>\n",
       "      <td>0.0</td>\n",
       "      <td>0.000000</td>\n",
       "      <td>0.000000</td>\n",
       "      <td>0.495470</td>\n",
       "      <td>0.292171</td>\n",
       "      <td>0.000000</td>\n",
       "      <td>0.427769</td>\n",
       "      <td>0.000000</td>\n",
       "      <td>0.226133</td>\n",
       "      <td>0.000000</td>\n",
       "    </tr>\n",
       "    <tr>\n",
       "      <th>3857</th>\n",
       "      <td>2014B</td>\n",
       "      <td>BBB 2014B 97006</td>\n",
       "      <td>1</td>\n",
       "      <td>0.0</td>\n",
       "      <td>0.0</td>\n",
       "      <td>0.0</td>\n",
       "      <td>0.0</td>\n",
       "      <td>0.0</td>\n",
       "      <td>0.0</td>\n",
       "      <td>0.0</td>\n",
       "      <td>...</td>\n",
       "      <td>0.0</td>\n",
       "      <td>0.000000</td>\n",
       "      <td>0.000000</td>\n",
       "      <td>0.000000</td>\n",
       "      <td>0.000000</td>\n",
       "      <td>0.000000</td>\n",
       "      <td>0.000000</td>\n",
       "      <td>0.000000</td>\n",
       "      <td>0.251750</td>\n",
       "      <td>0.000000</td>\n",
       "    </tr>\n",
       "    <tr>\n",
       "      <th>3858</th>\n",
       "      <td>2014B</td>\n",
       "      <td>BBB 2014B 99799</td>\n",
       "      <td>1</td>\n",
       "      <td>0.0</td>\n",
       "      <td>0.0</td>\n",
       "      <td>0.0</td>\n",
       "      <td>0.0</td>\n",
       "      <td>0.0</td>\n",
       "      <td>0.0</td>\n",
       "      <td>0.0</td>\n",
       "      <td>...</td>\n",
       "      <td>0.0</td>\n",
       "      <td>0.154360</td>\n",
       "      <td>0.525160</td>\n",
       "      <td>0.370800</td>\n",
       "      <td>0.000000</td>\n",
       "      <td>0.000000</td>\n",
       "      <td>0.521774</td>\n",
       "      <td>0.000000</td>\n",
       "      <td>0.251750</td>\n",
       "      <td>0.273409</td>\n",
       "    </tr>\n",
       "  </tbody>\n",
       "</table>\n",
       "<p>3859 rows × 72 columns</p>\n",
       "</div>"
      ],
      "text/plain": [
       "     code_presentation         identifier  final_result  Avg_score|-23  \\\n",
       "0                2013B  BBB 2013B 1008675             1            0.0   \n",
       "1                2013B   BBB 2013B 104054             1            0.0   \n",
       "2                2013B   BBB 2013B 108377             1            0.0   \n",
       "3                2013B   BBB 2013B 108589             1            0.0   \n",
       "4                2013B  BBB 2013B 1098728             0            0.0   \n",
       "5                2013B   BBB 2013B 109938             1            0.0   \n",
       "6                2013B   BBB 2013B 110881             1            0.0   \n",
       "7                2013B   BBB 2013B 116603             1            0.0   \n",
       "8                2013B   BBB 2013B 117071             0            0.0   \n",
       "9                2013B   BBB 2013B 120994             0            0.0   \n",
       "10               2013B   BBB 2013B 123860             1            0.0   \n",
       "11               2013B   BBB 2013B 126322             1            0.0   \n",
       "12               2013B   BBB 2013B 126411             0            0.0   \n",
       "13               2013B   BBB 2013B 133155             1            0.0   \n",
       "14               2013B   BBB 2013B 133748             0            0.0   \n",
       "15               2013B   BBB 2013B 142324             0            0.0   \n",
       "16               2013B  BBB 2013B 1436591             1            0.0   \n",
       "17               2013B   BBB 2013B 143741             1            0.0   \n",
       "18               2013B   BBB 2013B 145544             1            0.0   \n",
       "19               2013B   BBB 2013B 147876             0            0.0   \n",
       "20               2013B  BBB 2013B 1480800             1            0.0   \n",
       "21               2013B  BBB 2013B 1493476             1            0.0   \n",
       "22               2013B   BBB 2013B 151697             1            0.0   \n",
       "23               2013B  BBB 2013B 1521540             1            0.0   \n",
       "24               2013B   BBB 2013B 152910             1            0.0   \n",
       "25               2013B   BBB 2013B 152929             1            0.0   \n",
       "26               2013B   BBB 2013B 153212             1            0.0   \n",
       "27               2013B   BBB 2013B 154027             1            0.0   \n",
       "28               2013B   BBB 2013B 154125             0            0.0   \n",
       "29               2013B   BBB 2013B 154540             1            0.0   \n",
       "...                ...                ...           ...            ...   \n",
       "3829             2014B   BBB 2014B 635136             1            0.0   \n",
       "3830             2014B   BBB 2014B 635173             1            0.0   \n",
       "3831             2014B   BBB 2014B 635228             1            0.0   \n",
       "3832             2014B   BBB 2014B 635230             1            0.0   \n",
       "3833             2014B   BBB 2014B 635241             1            0.0   \n",
       "3834             2014B   BBB 2014B 635244             1            0.0   \n",
       "3835             2014B   BBB 2014B 635246             0            0.0   \n",
       "3836             2014B   BBB 2014B 635247             1            0.0   \n",
       "3837             2014B   BBB 2014B 635432             0            0.0   \n",
       "3838             2014B   BBB 2014B 635433             1            0.0   \n",
       "3839             2014B   BBB 2014B 635435             1            0.0   \n",
       "3840             2014B   BBB 2014B 635473             0            0.0   \n",
       "3841             2014B   BBB 2014B 635591             1            0.0   \n",
       "3842             2014B   BBB 2014B 635755             1            0.0   \n",
       "3843             2014B   BBB 2014B 635761             1            0.0   \n",
       "3844             2014B   BBB 2014B 635764             1            0.0   \n",
       "3845             2014B   BBB 2014B 635771             1            0.0   \n",
       "3846             2014B   BBB 2014B 635773             1            0.0   \n",
       "3847             2014B   BBB 2014B 635774             1            0.0   \n",
       "3848             2014B   BBB 2014B 635788             1            0.0   \n",
       "3849             2014B    BBB 2014B 63721             1            0.0   \n",
       "3850             2014B    BBB 2014B 64275             1            0.0   \n",
       "3851             2014B    BBB 2014B 72400             1            0.0   \n",
       "3852             2014B    BBB 2014B 78255             0            0.0   \n",
       "3853             2014B    BBB 2014B 89092             1            0.0   \n",
       "3854             2014B    BBB 2014B 89778             1            0.0   \n",
       "3855             2014B    BBB 2014B 90361             1            0.0   \n",
       "3856             2014B    BBB 2014B 92341             0            0.0   \n",
       "3857             2014B    BBB 2014B 97006             1            0.0   \n",
       "3858             2014B    BBB 2014B 99799             1            0.0   \n",
       "\n",
       "      Avg_score|-22  Avg_score|-21  Avg_score|-20  Avg_score|-19  \\\n",
       "0               0.0            0.0            0.0            0.0   \n",
       "1               0.0            0.0            0.0            0.0   \n",
       "2               0.0            0.0            0.0            0.0   \n",
       "3               0.0            0.0            0.0            0.0   \n",
       "4               0.0            0.0            0.0            0.0   \n",
       "5               0.0            0.0            0.0            0.0   \n",
       "6               0.0            0.0            0.0            0.0   \n",
       "7               0.0            0.0            0.0            0.0   \n",
       "8               0.0            0.0            0.0            0.0   \n",
       "9               0.0            0.0            0.0            0.0   \n",
       "10              0.0            0.0            0.0            0.0   \n",
       "11              0.0            0.0            0.0            0.0   \n",
       "12              0.0            0.0            0.0            0.0   \n",
       "13              0.0            0.0            0.0            0.0   \n",
       "14              0.0            0.0            0.0            0.0   \n",
       "15              0.0            0.0            0.0            0.0   \n",
       "16              0.0            0.0            0.0            0.0   \n",
       "17              0.0            0.0            0.0            0.0   \n",
       "18              0.0            0.0            0.0            0.0   \n",
       "19              0.0            0.0            0.0            0.0   \n",
       "20              0.0            0.0            0.0            0.0   \n",
       "21              0.0            0.0            0.0            0.0   \n",
       "22              0.0            0.0            0.0            0.0   \n",
       "23              0.0            0.0            0.0            0.0   \n",
       "24              0.0            0.0            0.0            0.0   \n",
       "25              0.0            0.0            0.0            0.0   \n",
       "26              0.0            0.0            0.0            0.0   \n",
       "27              0.0            0.0            0.0            0.0   \n",
       "28              0.0            0.0            0.0            0.0   \n",
       "29              0.0            0.0            0.0            0.0   \n",
       "...             ...            ...            ...            ...   \n",
       "3829            0.0            0.0            0.0            0.0   \n",
       "3830            0.0            0.0            0.0            0.0   \n",
       "3831            0.0            0.0            0.0            0.0   \n",
       "3832            0.0            0.0            0.0            0.0   \n",
       "3833            0.0            0.0            0.0            0.0   \n",
       "3834            0.0            0.0            0.0            0.0   \n",
       "3835            0.0            0.0            0.0            0.0   \n",
       "3836            0.0            0.0            0.0            0.0   \n",
       "3837            0.0            0.0            0.0            0.0   \n",
       "3838            0.0            0.0            0.0            0.0   \n",
       "3839            0.0            0.0            0.0            0.0   \n",
       "3840            0.0            0.0            0.0            0.0   \n",
       "3841            0.0            0.0            0.0            0.0   \n",
       "3842            0.0            0.0            0.0            0.0   \n",
       "3843            0.0            0.0            0.0            0.0   \n",
       "3844            0.0            0.0            0.0            0.0   \n",
       "3845            0.0            0.0            0.0            0.0   \n",
       "3846            0.0            0.0            0.0            0.0   \n",
       "3847            0.0            0.0            0.0            0.0   \n",
       "3848            0.0            0.0            0.0            0.0   \n",
       "3849            0.0            0.0            0.0            0.0   \n",
       "3850            0.0            0.0            0.0            0.0   \n",
       "3851            0.0            0.0            0.0            0.0   \n",
       "3852            0.0            0.0            0.0            0.0   \n",
       "3853            0.0            0.0            0.0            0.0   \n",
       "3854            0.0            0.0            0.0            0.0   \n",
       "3855            0.0            0.0            0.0            0.0   \n",
       "3856            0.0            0.0            0.0            0.0   \n",
       "3857            0.0            0.0            0.0            0.0   \n",
       "3858            0.0            0.0            0.0            0.0   \n",
       "\n",
       "      Avg_score|-18  Avg_score|-17      ...       sum_click|-10  sum_click|-9  \\\n",
       "0               0.0            0.0      ...                 0.0      0.000000   \n",
       "1               0.0            0.0      ...                 0.0      0.000000   \n",
       "2               0.0            0.0      ...                 0.0      0.625856   \n",
       "3               0.0            0.0      ...                 0.0      0.194781   \n",
       "4               0.0            0.0      ...                 0.0      0.000000   \n",
       "5               0.0            0.0      ...                 0.0      0.000000   \n",
       "6               0.0            0.0      ...                 0.0      0.000000   \n",
       "7               0.0            0.0      ...                 0.0      0.273409   \n",
       "8               0.0            0.0      ...                 0.0      0.000000   \n",
       "9               0.0            0.0      ...                 0.0      0.000000   \n",
       "10              0.0            0.0      ...                 0.0      0.349141   \n",
       "11              0.0            0.0      ...                 0.0      0.000000   \n",
       "12              0.0            0.0      ...                 0.0      0.000000   \n",
       "13              0.0            0.0      ...                 0.0      0.000000   \n",
       "14              0.0            0.0      ...                 0.0      0.534854   \n",
       "15              0.0            0.0      ...                 0.0      0.000000   \n",
       "16              0.0            0.0      ...                 0.0      0.000000   \n",
       "17              0.0            0.0      ...                 0.0      0.000000   \n",
       "18              0.0            0.0      ...                 0.0      0.000000   \n",
       "19              0.0            0.0      ...                 0.0      0.000000   \n",
       "20              0.0            0.0      ...                 0.0      0.000000   \n",
       "21              0.0            0.0      ...                 0.0      0.000000   \n",
       "22              0.0            0.0      ...                 0.0      0.000000   \n",
       "23              0.0            0.0      ...                 0.0      0.000000   \n",
       "24              0.0            0.0      ...                 0.0      0.000000   \n",
       "25              0.0            0.0      ...                 0.0      0.000000   \n",
       "26              0.0            0.0      ...                 0.0      0.000000   \n",
       "27              0.0            0.0      ...                 0.0      0.000000   \n",
       "28              0.0            0.0      ...                 0.0      0.000000   \n",
       "29              0.0            0.0      ...                 0.0      0.273409   \n",
       "...             ...            ...      ...                 ...           ...   \n",
       "3829            0.0            0.0      ...                 0.0      0.000000   \n",
       "3830            0.0            0.0      ...                 0.0      0.557844   \n",
       "3831            0.0            0.0      ...                 0.0      0.000000   \n",
       "3832            0.0            0.0      ...                 0.0      0.000000   \n",
       "3833            0.0            0.0      ...                 0.0      0.477884   \n",
       "3834            0.0            0.0      ...                 0.0      0.380493   \n",
       "3835            0.0            0.0      ...                 0.0      0.000000   \n",
       "3836            0.0            0.0      ...                 0.0      0.000000   \n",
       "3837            0.0            0.0      ...                 0.0      0.000000   \n",
       "3838            0.0            0.0      ...                 0.0      0.000000   \n",
       "3839            0.0            0.0      ...                 0.0      0.000000   \n",
       "3840            0.0            0.0      ...                 0.0      0.000000   \n",
       "3841            0.0            0.0      ...                 0.0      0.000000   \n",
       "3842            0.0            0.0      ...                 0.0      0.473121   \n",
       "3843            0.0            0.0      ...                 0.0      0.000000   \n",
       "3844            0.0            0.0      ...                 0.0      0.273409   \n",
       "3845            0.0            0.0      ...                 0.0      0.000000   \n",
       "3846            0.0            0.0      ...                 0.0      0.000000   \n",
       "3847            0.0            0.0      ...                 0.0      0.000000   \n",
       "3848            0.0            0.0      ...                 0.0      0.000000   \n",
       "3849            0.0            0.0      ...                 0.0      0.000000   \n",
       "3850            0.0            0.0      ...                 0.0      0.000000   \n",
       "3851            0.0            0.0      ...                 0.0      0.000000   \n",
       "3852            0.0            0.0      ...                 0.0      0.000000   \n",
       "3853            0.0            0.0      ...                 0.0      0.000000   \n",
       "3854            0.0            0.0      ...                 0.0      0.000000   \n",
       "3855            0.0            0.0      ...                 0.0      0.251750   \n",
       "3856            0.0            0.0      ...                 0.0      0.000000   \n",
       "3857            0.0            0.0      ...                 0.0      0.000000   \n",
       "3858            0.0            0.0      ...                 0.0      0.154360   \n",
       "\n",
       "      sum_click|-8  sum_click|-7  sum_click|-6  sum_click|-5  sum_click|-4  \\\n",
       "0         0.000000      0.000000      0.000000      0.380493      0.349141   \n",
       "1         0.499543      0.154360      0.000000      0.000000      0.000000   \n",
       "2         0.570511      0.389561      0.336915      0.000000      0.468190   \n",
       "3         0.000000      0.000000      0.000000      0.380493      0.000000   \n",
       "4         0.292171      0.000000      0.000000      0.000000      0.336915   \n",
       "5         0.000000      0.000000      0.000000      0.000000      0.000000   \n",
       "6         0.000000      0.000000      0.000000      0.000000      0.000000   \n",
       "7         0.000000      0.000000      0.000000      0.549657      0.389561   \n",
       "8         0.000000      0.000000      0.000000      0.000000      0.000000   \n",
       "9         0.000000      0.000000      0.000000      0.000000      0.000000   \n",
       "10        0.540963      0.273409      0.000000      0.273409      0.000000   \n",
       "11        0.000000      0.000000      0.000000      0.323524      0.000000   \n",
       "12        0.000000      0.000000      0.000000      0.000000      0.000000   \n",
       "13        0.000000      0.000000      0.000000      0.000000      0.000000   \n",
       "14        0.000000      0.000000      0.000000      0.427769      0.194781   \n",
       "15        0.000000      0.000000      0.000000      0.000000      0.000000   \n",
       "16        0.000000      0.000000      0.413707      0.000000      0.000000   \n",
       "17        0.154360      0.000000      0.000000      0.000000      0.495470   \n",
       "18        0.000000      0.000000      0.000000      0.000000      0.000000   \n",
       "19        0.000000      0.000000      0.000000      0.000000      0.000000   \n",
       "20        0.000000      0.000000      0.000000      0.000000      0.000000   \n",
       "21        0.000000      0.000000      0.000000      0.000000      0.000000   \n",
       "22        0.000000      0.000000      0.000000      0.457777      0.000000   \n",
       "23        0.000000      0.000000      0.000000      0.000000      0.000000   \n",
       "24        0.000000      0.000000      0.000000      0.226133      0.097390   \n",
       "25        0.000000      0.000000      0.000000      0.000000      0.000000   \n",
       "26        0.000000      0.000000      0.000000      0.000000      0.000000   \n",
       "27        0.308720      0.000000      0.370800      0.000000      0.000000   \n",
       "28        0.000000      0.000000      0.000000      0.000000      0.000000   \n",
       "29        0.000000      0.000000      0.000000      0.000000      0.000000   \n",
       "...            ...           ...           ...           ...           ...   \n",
       "3829      0.000000      0.000000      0.273409      0.370800      0.000000   \n",
       "3830      0.097390      0.194781      0.000000      0.491275      0.440551   \n",
       "3831      0.000000      0.000000      0.000000      0.000000      0.000000   \n",
       "3832      0.570511      0.000000      0.000000      0.000000      0.000000   \n",
       "3833      0.000000      0.434306      0.000000      0.000000      0.000000   \n",
       "3834      0.000000      0.000000      0.000000      0.097390      0.000000   \n",
       "3835      0.000000      0.000000      0.000000      0.000000      0.000000   \n",
       "3836      0.000000      0.000000      0.000000      0.000000      0.000000   \n",
       "3837      0.000000      0.000000      0.000000      0.000000      0.000000   \n",
       "3838      0.000000      0.000000      0.000000      0.000000      0.389561   \n",
       "3839      0.000000      0.000000      0.482491      0.000000      0.000000   \n",
       "3840      0.000000      0.389561      0.000000      0.000000      0.000000   \n",
       "3841      0.446531      0.000000      0.000000      0.000000      0.000000   \n",
       "3842      0.000000      0.000000      0.360387      0.000000      0.000000   \n",
       "3843      0.000000      0.000000      0.000000      0.000000      0.000000   \n",
       "3844      0.000000      0.000000      0.251750      0.000000      0.336915   \n",
       "3845      0.000000      0.000000      0.000000      0.000000      0.000000   \n",
       "3846      0.000000      0.000000      0.000000      0.000000      0.000000   \n",
       "3847      0.000000      0.000000      0.000000      0.000000      0.000000   \n",
       "3848      0.000000      0.000000      0.000000      0.000000      0.000000   \n",
       "3849      0.370800      0.323524      0.000000      0.000000      0.000000   \n",
       "3850      0.000000      0.000000      0.000000      0.000000      0.000000   \n",
       "3851      0.406110      0.000000      0.097390      0.000000      0.000000   \n",
       "3852      0.000000      0.000000      0.000000      0.000000      0.000000   \n",
       "3853      0.000000      0.000000      0.000000      0.000000      0.000000   \n",
       "3854      0.000000      0.000000      0.000000      0.000000      0.000000   \n",
       "3855      0.000000      0.000000      0.000000      0.000000      0.000000   \n",
       "3856      0.000000      0.495470      0.292171      0.000000      0.427769   \n",
       "3857      0.000000      0.000000      0.000000      0.000000      0.000000   \n",
       "3858      0.525160      0.370800      0.000000      0.000000      0.521774   \n",
       "\n",
       "      sum_click|-3  sum_click|-2  sum_click|-1  \n",
       "0         0.000000      0.000000      0.154360  \n",
       "1         0.000000      0.000000      0.000000  \n",
       "2         0.452267      0.336915      0.446531  \n",
       "3         0.000000      0.000000      0.000000  \n",
       "4         0.000000      0.000000      0.000000  \n",
       "5         0.000000      0.000000      0.000000  \n",
       "6         0.000000      0.000000      0.000000  \n",
       "7         0.349141      0.194781      0.000000  \n",
       "8         0.000000      0.000000      0.000000  \n",
       "9         0.000000      0.000000      0.000000  \n",
       "10        0.273409      0.292171      0.000000  \n",
       "11        0.000000      0.000000      0.000000  \n",
       "12        0.000000      0.000000      0.000000  \n",
       "13        0.000000      0.000000      0.000000  \n",
       "14        0.097390      0.389561      0.097390  \n",
       "15        0.000000      0.000000      0.000000  \n",
       "16        0.000000      0.000000      0.194781  \n",
       "17        0.503501      0.000000      0.154360  \n",
       "18        0.000000      0.000000      0.000000  \n",
       "19        0.000000      0.000000      0.000000  \n",
       "20        0.251750      0.000000      0.000000  \n",
       "21        0.000000      0.000000      0.000000  \n",
       "22        0.000000      0.000000      0.000000  \n",
       "23        0.000000      0.000000      0.000000  \n",
       "24        0.000000      0.292171      0.097390  \n",
       "25        0.000000      0.000000      0.000000  \n",
       "26        0.000000      0.000000      0.000000  \n",
       "27        0.360387      0.000000      0.000000  \n",
       "28        0.000000      0.000000      0.000000  \n",
       "29        0.000000      0.000000      0.000000  \n",
       "...            ...           ...           ...  \n",
       "3829      0.000000      0.000000      0.000000  \n",
       "3830      0.482491      0.000000      0.420914  \n",
       "3831      0.000000      0.000000      0.000000  \n",
       "3832      0.468190      0.000000      0.406110  \n",
       "3833      0.000000      0.000000      0.000000  \n",
       "3834      0.000000      0.000000      0.000000  \n",
       "3835      0.000000      0.000000      0.000000  \n",
       "3836      0.000000      0.000000      0.000000  \n",
       "3837      0.000000      0.000000      0.000000  \n",
       "3838      0.323524      0.000000      0.000000  \n",
       "3839      0.000000      0.000000      0.000000  \n",
       "3840      0.000000      0.000000      0.000000  \n",
       "3841      0.000000      0.000000      0.000000  \n",
       "3842      0.000000      0.000000      0.000000  \n",
       "3843      0.000000      0.000000      0.000000  \n",
       "3844      0.420914      0.000000      0.000000  \n",
       "3845      0.000000      0.000000      0.000000  \n",
       "3846      0.000000      0.000000      0.000000  \n",
       "3847      0.000000      0.000000      0.154360  \n",
       "3848      0.000000      0.000000      0.000000  \n",
       "3849      0.000000      0.370800      0.251750  \n",
       "3850      0.000000      0.000000      0.000000  \n",
       "3851      0.000000      0.000000      0.000000  \n",
       "3852      0.000000      0.336915      0.000000  \n",
       "3853      0.000000      0.000000      0.000000  \n",
       "3854      0.000000      0.413707      0.000000  \n",
       "3855      0.000000      0.000000      0.000000  \n",
       "3856      0.000000      0.226133      0.000000  \n",
       "3857      0.000000      0.251750      0.000000  \n",
       "3858      0.000000      0.251750      0.273409  \n",
       "\n",
       "[3859 rows x 72 columns]"
      ]
     },
     "execution_count": 5,
     "metadata": {},
     "output_type": "execute_result"
    }
   ],
   "source": [
    "BBB_Train_Dec0"
   ]
  },
  {
   "cell_type": "code",
   "execution_count": 6,
   "metadata": {
    "collapsed": true
   },
   "outputs": [],
   "source": [
    "from sklearn.model_selection import train_test_split, RandomizedSearchCV, GridSearchCV\n",
    "from sklearn.naive_bayes import GaussianNB\n",
    "from sklearn.metrics import accuracy_score, classification_report, confusion_matrix"
   ]
  },
  {
   "cell_type": "code",
   "execution_count": null,
   "metadata": {
    "collapsed": true
   },
   "outputs": [],
   "source": []
  },
  {
   "cell_type": "markdown",
   "metadata": {},
   "source": [
    "### Course BBB NB"
   ]
  },
  {
   "cell_type": "markdown",
   "metadata": {},
   "source": [
    "#### BBB Decile 0 NB"
   ]
  },
  {
   "cell_type": "code",
   "execution_count": 7,
   "metadata": {
    "collapsed": true
   },
   "outputs": [],
   "source": [
    "X_train = BBB_Train_Dec0.drop([\"code_presentation\",\"identifier\",\"final_result\"],axis=1)\n",
    "y_train = BBB_Train_Dec0[\"final_result\"]\n",
    "X_test = BBB_Test_Dec0.drop([\"code_presentation\",\"identifier\",\"final_result\"],axis=1)\n",
    "y_test = BBB_Test_Dec0[\"final_result\"]"
   ]
  },
  {
   "cell_type": "code",
   "execution_count": 8,
   "metadata": {
    "scrolled": true
   },
   "outputs": [
    {
     "name": "stdout",
     "output_type": "stream",
     "text": [
      "              precision    recall  f1-score   support\n",
      "\n",
      "           0       0.24      1.00      0.39       369\n",
      "           1       0.88      0.01      0.01      1152\n",
      "\n",
      "   micro avg       0.25      0.25      0.25      1521\n",
      "   macro avg       0.56      0.50      0.20      1521\n",
      "weighted avg       0.72      0.25      0.10      1521\n",
      "\n",
      "0.2465483234714004\n",
      "[[ 368    1]\n",
      " [1145    7]]\n"
     ]
    }
   ],
   "source": [
    "base_model = GaussianNB()\n",
    "base_model.fit(X_train, y_train)\n",
    "\n",
    "predictions = base_model.predict(X_test)\n",
    "\n",
    "print(classification_report(y_test,predictions))\n",
    "print(accuracy_score(y_test, predictions))\n",
    "print(confusion_matrix(y_test, predictions))"
   ]
  },
  {
   "cell_type": "markdown",
   "metadata": {},
   "source": [
    "#### BBB Decile 1 NB"
   ]
  },
  {
   "cell_type": "code",
   "execution_count": 9,
   "metadata": {
    "collapsed": true
   },
   "outputs": [],
   "source": [
    "X_train = BBB_Train_Dec1.drop([\"code_presentation\",\"identifier\",\"final_result\"],axis=1)\n",
    "y_train = BBB_Train_Dec1[\"final_result\"]\n",
    "X_test = BBB_Test_Dec1.drop([\"code_presentation\",\"identifier\",\"final_result\"],axis=1)\n",
    "y_test = BBB_Test_Dec1[\"final_result\"]"
   ]
  },
  {
   "cell_type": "code",
   "execution_count": 10,
   "metadata": {
    "scrolled": true
   },
   "outputs": [
    {
     "name": "stdout",
     "output_type": "stream",
     "text": [
      "              precision    recall  f1-score   support\n",
      "\n",
      "           0       0.25      0.99      0.39       369\n",
      "           1       0.87      0.03      0.06      1152\n",
      "\n",
      "   micro avg       0.26      0.26      0.26      1521\n",
      "   macro avg       0.56      0.51      0.22      1521\n",
      "weighted avg       0.72      0.26      0.14      1521\n",
      "\n",
      "0.26101249178172253\n",
      "[[ 364    5]\n",
      " [1119   33]]\n"
     ]
    }
   ],
   "source": [
    "base_model = GaussianNB()\n",
    "base_model.fit(X_train, y_train)\n",
    "\n",
    "predictions = base_model.predict(X_test)\n",
    "\n",
    "print(classification_report(y_test,predictions))\n",
    "print(accuracy_score(y_test, predictions))\n",
    "print(confusion_matrix(y_test, predictions))"
   ]
  },
  {
   "cell_type": "markdown",
   "metadata": {},
   "source": [
    "#### BBB Decile 2 NB"
   ]
  },
  {
   "cell_type": "code",
   "execution_count": 11,
   "metadata": {
    "collapsed": true
   },
   "outputs": [],
   "source": [
    "X_train = BBB_Train_Dec2.drop([\"code_presentation\",\"identifier\",\"final_result\"],axis=1)\n",
    "y_train = BBB_Train_Dec2[\"final_result\"]\n",
    "X_test = BBB_Test_Dec2.drop([\"code_presentation\",\"identifier\",\"final_result\"],axis=1)\n",
    "y_test = BBB_Test_Dec2[\"final_result\"]"
   ]
  },
  {
   "cell_type": "code",
   "execution_count": 12,
   "metadata": {
    "scrolled": true
   },
   "outputs": [
    {
     "name": "stdout",
     "output_type": "stream",
     "text": [
      "              precision    recall  f1-score   support\n",
      "\n",
      "           0       0.25      0.99      0.39       369\n",
      "           1       0.89      0.03      0.05      1152\n",
      "\n",
      "   micro avg       0.26      0.26      0.26      1521\n",
      "   macro avg       0.57      0.51      0.22      1521\n",
      "weighted avg       0.73      0.26      0.14      1521\n",
      "\n",
      "0.26101249178172253\n",
      "[[ 365    4]\n",
      " [1120   32]]\n"
     ]
    }
   ],
   "source": [
    "base_model = GaussianNB()\n",
    "base_model.fit(X_train, y_train)\n",
    "\n",
    "predictions = base_model.predict(X_test)\n",
    "\n",
    "print(classification_report(y_test,predictions))\n",
    "print(accuracy_score(y_test, predictions))\n",
    "print(confusion_matrix(y_test, predictions))"
   ]
  },
  {
   "cell_type": "markdown",
   "metadata": {},
   "source": [
    "#### BBB Decile 3 NB"
   ]
  },
  {
   "cell_type": "code",
   "execution_count": 13,
   "metadata": {
    "collapsed": true
   },
   "outputs": [],
   "source": [
    "X_train = BBB_Train_Dec3.drop([\"code_presentation\",\"identifier\",\"final_result\"],axis=1)\n",
    "y_train = BBB_Train_Dec3[\"final_result\"]\n",
    "X_test = BBB_Test_Dec3.drop([\"code_presentation\",\"identifier\",\"final_result\"],axis=1)\n",
    "y_test = BBB_Test_Dec3[\"final_result\"]"
   ]
  },
  {
   "cell_type": "code",
   "execution_count": 14,
   "metadata": {
    "scrolled": true
   },
   "outputs": [
    {
     "name": "stdout",
     "output_type": "stream",
     "text": [
      "              precision    recall  f1-score   support\n",
      "\n",
      "           0       0.24      0.99      0.39       369\n",
      "           1       0.90      0.02      0.03      1152\n",
      "\n",
      "   micro avg       0.25      0.25      0.25      1521\n",
      "   macro avg       0.57      0.51      0.21      1521\n",
      "weighted avg       0.74      0.25      0.12      1521\n",
      "\n",
      "0.25312294543063774\n",
      "[[ 367    2]\n",
      " [1134   18]]\n"
     ]
    }
   ],
   "source": [
    "base_model = GaussianNB()\n",
    "base_model.fit(X_train, y_train)\n",
    "\n",
    "predictions = base_model.predict(X_test)\n",
    "\n",
    "print(classification_report(y_test,predictions))\n",
    "print(accuracy_score(y_test, predictions))\n",
    "print(confusion_matrix(y_test, predictions))"
   ]
  },
  {
   "cell_type": "code",
   "execution_count": null,
   "metadata": {
    "collapsed": true
   },
   "outputs": [],
   "source": []
  },
  {
   "cell_type": "markdown",
   "metadata": {},
   "source": [
    "#### BBB Decile 4 NB"
   ]
  },
  {
   "cell_type": "code",
   "execution_count": 15,
   "metadata": {
    "collapsed": true
   },
   "outputs": [],
   "source": [
    "X_train = BBB_Train_Dec4.drop([\"code_presentation\",\"identifier\",\"final_result\"],axis=1)\n",
    "y_train = BBB_Train_Dec4[\"final_result\"]\n",
    "X_test = BBB_Test_Dec4.drop([\"code_presentation\",\"identifier\",\"final_result\"],axis=1)\n",
    "y_test = BBB_Test_Dec4[\"final_result\"]"
   ]
  },
  {
   "cell_type": "code",
   "execution_count": 16,
   "metadata": {
    "scrolled": true
   },
   "outputs": [
    {
     "name": "stdout",
     "output_type": "stream",
     "text": [
      "              precision    recall  f1-score   support\n",
      "\n",
      "           0       0.28      0.96      0.44       369\n",
      "           1       0.94      0.22      0.35      1152\n",
      "\n",
      "   micro avg       0.40      0.40      0.40      1521\n",
      "   macro avg       0.61      0.59      0.40      1521\n",
      "weighted avg       0.78      0.40      0.37      1521\n",
      "\n",
      "0.3977646285338593\n",
      "[[353  16]\n",
      " [900 252]]\n"
     ]
    }
   ],
   "source": [
    "base_model = GaussianNB()\n",
    "base_model.fit(X_train, y_train)\n",
    "\n",
    "predictions = base_model.predict(X_test)\n",
    "\n",
    "print(classification_report(y_test,predictions))\n",
    "print(accuracy_score(y_test, predictions))\n",
    "print(confusion_matrix(y_test, predictions))"
   ]
  },
  {
   "cell_type": "code",
   "execution_count": null,
   "metadata": {
    "collapsed": true
   },
   "outputs": [],
   "source": []
  },
  {
   "cell_type": "markdown",
   "metadata": {},
   "source": [
    "#### BBB Decile 5 NB"
   ]
  },
  {
   "cell_type": "code",
   "execution_count": 17,
   "metadata": {
    "collapsed": true
   },
   "outputs": [],
   "source": [
    "X_train = BBB_Train_Dec5.drop([\"code_presentation\",\"identifier\",\"final_result\"],axis=1)\n",
    "y_train = BBB_Train_Dec5[\"final_result\"]\n",
    "X_test = BBB_Test_Dec5.drop([\"code_presentation\",\"identifier\",\"final_result\"],axis=1)\n",
    "y_test = BBB_Test_Dec5[\"final_result\"]"
   ]
  },
  {
   "cell_type": "code",
   "execution_count": 18,
   "metadata": {
    "scrolled": true
   },
   "outputs": [
    {
     "name": "stdout",
     "output_type": "stream",
     "text": [
      "              precision    recall  f1-score   support\n",
      "\n",
      "           0       0.31      0.88      0.46       369\n",
      "           1       0.91      0.39      0.54      1152\n",
      "\n",
      "   micro avg       0.51      0.51      0.51      1521\n",
      "   macro avg       0.61      0.63      0.50      1521\n",
      "weighted avg       0.76      0.51      0.52      1521\n",
      "\n",
      "0.5069033530571992\n",
      "[[324  45]\n",
      " [705 447]]\n"
     ]
    }
   ],
   "source": [
    "base_model = GaussianNB()\n",
    "base_model.fit(X_train, y_train)\n",
    "\n",
    "predictions = base_model.predict(X_test)\n",
    "\n",
    "print(classification_report(y_test,predictions))\n",
    "print(accuracy_score(y_test, predictions))\n",
    "print(confusion_matrix(y_test, predictions))"
   ]
  },
  {
   "cell_type": "code",
   "execution_count": null,
   "metadata": {
    "collapsed": true
   },
   "outputs": [],
   "source": []
  },
  {
   "cell_type": "markdown",
   "metadata": {},
   "source": [
    "#### BBB Decile 6 NB"
   ]
  },
  {
   "cell_type": "code",
   "execution_count": 19,
   "metadata": {
    "collapsed": true
   },
   "outputs": [],
   "source": [
    "X_train = BBB_Train_Dec6.drop([\"code_presentation\",\"identifier\",\"final_result\"],axis=1)\n",
    "y_train = BBB_Train_Dec6[\"final_result\"]\n",
    "X_test = BBB_Test_Dec6.drop([\"code_presentation\",\"identifier\",\"final_result\"],axis=1)\n",
    "y_test = BBB_Test_Dec6[\"final_result\"]"
   ]
  },
  {
   "cell_type": "code",
   "execution_count": 20,
   "metadata": {
    "scrolled": true
   },
   "outputs": [
    {
     "name": "stdout",
     "output_type": "stream",
     "text": [
      "              precision    recall  f1-score   support\n",
      "\n",
      "           0       0.35      0.79      0.48       369\n",
      "           1       0.88      0.52      0.66      1152\n",
      "\n",
      "   micro avg       0.59      0.59      0.59      1521\n",
      "   macro avg       0.62      0.66      0.57      1521\n",
      "weighted avg       0.75      0.59      0.62      1521\n",
      "\n",
      "0.5877712031558185\n",
      "[[290  79]\n",
      " [548 604]]\n"
     ]
    }
   ],
   "source": [
    "base_model = GaussianNB()\n",
    "base_model.fit(X_train, y_train)\n",
    "\n",
    "predictions = base_model.predict(X_test)\n",
    "\n",
    "print(classification_report(y_test,predictions))\n",
    "print(accuracy_score(y_test, predictions))\n",
    "print(confusion_matrix(y_test, predictions))"
   ]
  },
  {
   "cell_type": "code",
   "execution_count": null,
   "metadata": {
    "collapsed": true
   },
   "outputs": [],
   "source": []
  },
  {
   "cell_type": "markdown",
   "metadata": {},
   "source": [
    "#### BBB Decile 7 NB"
   ]
  },
  {
   "cell_type": "code",
   "execution_count": 21,
   "metadata": {
    "collapsed": true
   },
   "outputs": [],
   "source": [
    "X_train = BBB_Train_Dec7.drop([\"code_presentation\",\"identifier\",\"final_result\"],axis=1)\n",
    "y_train = BBB_Train_Dec7[\"final_result\"]\n",
    "X_test = BBB_Test_Dec7.drop([\"code_presentation\",\"identifier\",\"final_result\"],axis=1)\n",
    "y_test = BBB_Test_Dec7[\"final_result\"]"
   ]
  },
  {
   "cell_type": "code",
   "execution_count": 22,
   "metadata": {
    "scrolled": true
   },
   "outputs": [
    {
     "name": "stdout",
     "output_type": "stream",
     "text": [
      "              precision    recall  f1-score   support\n",
      "\n",
      "           0       0.36      0.80      0.50       369\n",
      "           1       0.90      0.55      0.68      1152\n",
      "\n",
      "   micro avg       0.61      0.61      0.61      1521\n",
      "   macro avg       0.63      0.68      0.59      1521\n",
      "weighted avg       0.77      0.61      0.64      1521\n",
      "\n",
      "0.6107823800131492\n",
      "[[296  73]\n",
      " [519 633]]\n"
     ]
    }
   ],
   "source": [
    "base_model = GaussianNB()\n",
    "base_model.fit(X_train, y_train)\n",
    "\n",
    "predictions = base_model.predict(X_test)\n",
    "\n",
    "print(classification_report(y_test,predictions))\n",
    "print(accuracy_score(y_test, predictions))\n",
    "print(confusion_matrix(y_test, predictions))"
   ]
  },
  {
   "cell_type": "code",
   "execution_count": null,
   "metadata": {
    "collapsed": true
   },
   "outputs": [],
   "source": []
  },
  {
   "cell_type": "markdown",
   "metadata": {},
   "source": [
    "#### BBB Decile 8 NB"
   ]
  },
  {
   "cell_type": "code",
   "execution_count": 23,
   "metadata": {
    "collapsed": true
   },
   "outputs": [],
   "source": [
    "X_train = BBB_Train_Dec8.drop([\"code_presentation\",\"identifier\",\"final_result\"],axis=1)\n",
    "y_train = BBB_Train_Dec8[\"final_result\"]\n",
    "X_test = BBB_Test_Dec8.drop([\"code_presentation\",\"identifier\",\"final_result\"],axis=1)\n",
    "y_test = BBB_Test_Dec8[\"final_result\"]"
   ]
  },
  {
   "cell_type": "code",
   "execution_count": 24,
   "metadata": {
    "scrolled": true
   },
   "outputs": [
    {
     "name": "stdout",
     "output_type": "stream",
     "text": [
      "              precision    recall  f1-score   support\n",
      "\n",
      "           0       0.38      0.83      0.52       369\n",
      "           1       0.91      0.57      0.70      1152\n",
      "\n",
      "   micro avg       0.63      0.63      0.63      1521\n",
      "   macro avg       0.65      0.70      0.61      1521\n",
      "weighted avg       0.78      0.63      0.66      1521\n",
      "\n",
      "0.6318211702827088\n",
      "[[305  64]\n",
      " [496 656]]\n"
     ]
    }
   ],
   "source": [
    "base_model = GaussianNB()\n",
    "base_model.fit(X_train, y_train)\n",
    "\n",
    "predictions = base_model.predict(X_test)\n",
    "\n",
    "print(classification_report(y_test,predictions))\n",
    "print(accuracy_score(y_test, predictions))\n",
    "print(confusion_matrix(y_test, predictions))"
   ]
  },
  {
   "cell_type": "code",
   "execution_count": null,
   "metadata": {
    "collapsed": true
   },
   "outputs": [],
   "source": []
  },
  {
   "cell_type": "markdown",
   "metadata": {},
   "source": [
    "#### BBB Decile 9 NB"
   ]
  },
  {
   "cell_type": "code",
   "execution_count": 25,
   "metadata": {
    "collapsed": true
   },
   "outputs": [],
   "source": [
    "X_train = BBB_Train_Dec9.drop([\"code_presentation\",\"identifier\",\"final_result\"],axis=1)\n",
    "y_train = BBB_Train_Dec9[\"final_result\"]\n",
    "X_test = BBB_Test_Dec9.drop([\"code_presentation\",\"identifier\",\"final_result\"],axis=1)\n",
    "y_test = BBB_Test_Dec9[\"final_result\"]"
   ]
  },
  {
   "cell_type": "code",
   "execution_count": 26,
   "metadata": {
    "scrolled": true
   },
   "outputs": [
    {
     "name": "stdout",
     "output_type": "stream",
     "text": [
      "              precision    recall  f1-score   support\n",
      "\n",
      "           0       0.40      0.83      0.54       369\n",
      "           1       0.92      0.60      0.73      1152\n",
      "\n",
      "   micro avg       0.66      0.66      0.66      1521\n",
      "   macro avg       0.66      0.72      0.63      1521\n",
      "weighted avg       0.79      0.66      0.68      1521\n",
      "\n",
      "0.6561472715318869\n",
      "[[308  61]\n",
      " [462 690]]\n"
     ]
    }
   ],
   "source": [
    "base_model = GaussianNB()\n",
    "base_model.fit(X_train, y_train)\n",
    "\n",
    "predictions = base_model.predict(X_test)\n",
    "\n",
    "print(classification_report(y_test,predictions))\n",
    "print(accuracy_score(y_test, predictions))\n",
    "print(confusion_matrix(y_test, predictions))"
   ]
  },
  {
   "cell_type": "code",
   "execution_count": null,
   "metadata": {
    "collapsed": true
   },
   "outputs": [],
   "source": []
  },
  {
   "cell_type": "markdown",
   "metadata": {},
   "source": [
    "#### BBB Decile 10 NB"
   ]
  },
  {
   "cell_type": "code",
   "execution_count": 27,
   "metadata": {
    "collapsed": true
   },
   "outputs": [],
   "source": [
    "X_train = BBB_Train_Dec10.drop([\"code_presentation\",\"identifier\",\"final_result\"],axis=1)\n",
    "y_train = BBB_Train_Dec10[\"final_result\"]\n",
    "X_test = BBB_Test_Dec10.drop([\"code_presentation\",\"identifier\",\"final_result\"],axis=1)\n",
    "y_test = BBB_Test_Dec10[\"final_result\"]"
   ]
  },
  {
   "cell_type": "code",
   "execution_count": 28,
   "metadata": {},
   "outputs": [
    {
     "name": "stdout",
     "output_type": "stream",
     "text": [
      "              precision    recall  f1-score   support\n",
      "\n",
      "           0       0.41      0.84      0.55       369\n",
      "           1       0.92      0.61      0.74      1152\n",
      "\n",
      "   micro avg       0.67      0.67      0.67      1521\n",
      "   macro avg       0.67      0.73      0.64      1521\n",
      "weighted avg       0.80      0.67      0.69      1521\n",
      "\n",
      "0.6686390532544378\n",
      "[[311  58]\n",
      " [446 706]]\n"
     ]
    }
   ],
   "source": [
    "base_model = GaussianNB()\n",
    "base_model.fit(X_train, y_train)\n",
    "\n",
    "predictions = base_model.predict(X_test)\n",
    "\n",
    "print(classification_report(y_test,predictions))\n",
    "print(accuracy_score(y_test, predictions))\n",
    "print(confusion_matrix(y_test, predictions))"
   ]
  },
  {
   "cell_type": "markdown",
   "metadata": {},
   "source": [
    "### Course DDD NB"
   ]
  },
  {
   "cell_type": "markdown",
   "metadata": {},
   "source": [
    "#### DDD Decile 0 NB"
   ]
  },
  {
   "cell_type": "code",
   "execution_count": 29,
   "metadata": {
    "collapsed": true
   },
   "outputs": [],
   "source": [
    "X_train = DDD_Train_Dec0.drop([\"code_presentation\",\"identifier\",\"final_result\"],axis=1)\n",
    "y_train = DDD_Train_Dec0[\"final_result\"]\n",
    "X_test = DDD_Test_Dec0.drop([\"code_presentation\",\"identifier\",\"final_result\"],axis=1)\n",
    "y_test = DDD_Test_Dec0[\"final_result\"]"
   ]
  },
  {
   "cell_type": "code",
   "execution_count": 30,
   "metadata": {},
   "outputs": [
    {
     "name": "stdout",
     "output_type": "stream",
     "text": [
      "              precision    recall  f1-score   support\n",
      "\n",
      "           0       0.31      1.00      0.47       358\n",
      "           1       0.00      0.00      0.00       792\n",
      "\n",
      "   micro avg       0.31      0.31      0.31      1150\n",
      "   macro avg       0.16      0.50      0.24      1150\n",
      "weighted avg       0.10      0.31      0.15      1150\n",
      "\n",
      "0.31130434782608696\n",
      "[[358   0]\n",
      " [792   0]]\n"
     ]
    },
    {
     "name": "stderr",
     "output_type": "stream",
     "text": [
      "C:\\Users\\Chris\\Anaconda3\\lib\\site-packages\\sklearn\\metrics\\classification.py:1143: UndefinedMetricWarning: Precision and F-score are ill-defined and being set to 0.0 in labels with no predicted samples.\n",
      "  'precision', 'predicted', average, warn_for)\n"
     ]
    }
   ],
   "source": [
    "base_model = GaussianNB()\n",
    "base_model.fit(X_train, y_train)\n",
    "\n",
    "predictions = base_model.predict(X_test)\n",
    "\n",
    "print(classification_report(y_test,predictions))\n",
    "print(accuracy_score(y_test, predictions))\n",
    "print(confusion_matrix(y_test, predictions))"
   ]
  },
  {
   "cell_type": "code",
   "execution_count": null,
   "metadata": {
    "collapsed": true
   },
   "outputs": [],
   "source": []
  },
  {
   "cell_type": "markdown",
   "metadata": {},
   "source": [
    "#### DDD Decile 1 NB"
   ]
  },
  {
   "cell_type": "code",
   "execution_count": 31,
   "metadata": {
    "collapsed": true
   },
   "outputs": [],
   "source": [
    "X_train = DDD_Train_Dec1.drop([\"code_presentation\",\"identifier\",\"final_result\"],axis=1)\n",
    "y_train = DDD_Train_Dec1[\"final_result\"]\n",
    "X_test = DDD_Test_Dec1.drop([\"code_presentation\",\"identifier\",\"final_result\"],axis=1)\n",
    "y_test = DDD_Test_Dec1[\"final_result\"]"
   ]
  },
  {
   "cell_type": "code",
   "execution_count": 32,
   "metadata": {},
   "outputs": [
    {
     "name": "stdout",
     "output_type": "stream",
     "text": [
      "              precision    recall  f1-score   support\n",
      "\n",
      "           0       0.31      1.00      0.48       358\n",
      "           1       0.89      0.01      0.02       792\n",
      "\n",
      "   micro avg       0.32      0.32      0.32      1150\n",
      "   macro avg       0.60      0.50      0.25      1150\n",
      "weighted avg       0.71      0.32      0.16      1150\n",
      "\n",
      "0.3173913043478261\n",
      "[[357   1]\n",
      " [784   8]]\n"
     ]
    }
   ],
   "source": [
    "base_model = GaussianNB()\n",
    "base_model.fit(X_train, y_train)\n",
    "\n",
    "predictions = base_model.predict(X_test)\n",
    "\n",
    "print(classification_report(y_test,predictions))\n",
    "print(accuracy_score(y_test, predictions))\n",
    "print(confusion_matrix(y_test, predictions))"
   ]
  },
  {
   "cell_type": "code",
   "execution_count": null,
   "metadata": {
    "collapsed": true
   },
   "outputs": [],
   "source": []
  },
  {
   "cell_type": "markdown",
   "metadata": {},
   "source": [
    "#### DDD Decile 2 NB"
   ]
  },
  {
   "cell_type": "code",
   "execution_count": 33,
   "metadata": {
    "collapsed": true
   },
   "outputs": [],
   "source": [
    "X_train = DDD_Train_Dec2.drop([\"code_presentation\",\"identifier\",\"final_result\"],axis=1)\n",
    "y_train = DDD_Train_Dec2[\"final_result\"]\n",
    "X_test = DDD_Test_Dec2.drop([\"code_presentation\",\"identifier\",\"final_result\"],axis=1)\n",
    "y_test = DDD_Test_Dec2[\"final_result\"]"
   ]
  },
  {
   "cell_type": "code",
   "execution_count": 34,
   "metadata": {},
   "outputs": [
    {
     "name": "stdout",
     "output_type": "stream",
     "text": [
      "              precision    recall  f1-score   support\n",
      "\n",
      "           0       0.33      0.99      0.50       358\n",
      "           1       0.96      0.11      0.19       792\n",
      "\n",
      "   micro avg       0.38      0.38      0.38      1150\n",
      "   macro avg       0.64      0.55      0.35      1150\n",
      "weighted avg       0.76      0.38      0.29      1150\n",
      "\n",
      "0.38173913043478264\n",
      "[[354   4]\n",
      " [707  85]]\n"
     ]
    }
   ],
   "source": [
    "base_model = GaussianNB()\n",
    "base_model.fit(X_train, y_train)\n",
    "\n",
    "predictions = base_model.predict(X_test)\n",
    "\n",
    "print(classification_report(y_test,predictions))\n",
    "print(accuracy_score(y_test, predictions))\n",
    "print(confusion_matrix(y_test, predictions))"
   ]
  },
  {
   "cell_type": "code",
   "execution_count": null,
   "metadata": {
    "collapsed": true
   },
   "outputs": [],
   "source": []
  },
  {
   "cell_type": "markdown",
   "metadata": {},
   "source": [
    "#### DDD Decile 3 NB"
   ]
  },
  {
   "cell_type": "code",
   "execution_count": 35,
   "metadata": {
    "collapsed": true
   },
   "outputs": [],
   "source": [
    "X_train = DDD_Train_Dec3.drop([\"code_presentation\",\"identifier\",\"final_result\"],axis=1)\n",
    "y_train = DDD_Train_Dec3[\"final_result\"]\n",
    "X_test = DDD_Test_Dec3.drop([\"code_presentation\",\"identifier\",\"final_result\"],axis=1)\n",
    "y_test = DDD_Test_Dec3[\"final_result\"]"
   ]
  },
  {
   "cell_type": "code",
   "execution_count": 36,
   "metadata": {},
   "outputs": [
    {
     "name": "stdout",
     "output_type": "stream",
     "text": [
      "              precision    recall  f1-score   support\n",
      "\n",
      "           0       0.37      0.95      0.53       358\n",
      "           1       0.93      0.27      0.41       792\n",
      "\n",
      "   micro avg       0.48      0.48      0.48      1150\n",
      "   macro avg       0.65      0.61      0.47      1150\n",
      "weighted avg       0.75      0.48      0.45      1150\n",
      "\n",
      "0.48\n",
      "[[341  17]\n",
      " [581 211]]\n"
     ]
    }
   ],
   "source": [
    "base_model = GaussianNB()\n",
    "base_model.fit(X_train, y_train)\n",
    "\n",
    "predictions = base_model.predict(X_test)\n",
    "\n",
    "print(classification_report(y_test,predictions))\n",
    "print(accuracy_score(y_test, predictions))\n",
    "print(confusion_matrix(y_test, predictions))"
   ]
  },
  {
   "cell_type": "code",
   "execution_count": null,
   "metadata": {
    "collapsed": true
   },
   "outputs": [],
   "source": []
  },
  {
   "cell_type": "markdown",
   "metadata": {},
   "source": [
    "#### DDD Decile 4 NB"
   ]
  },
  {
   "cell_type": "code",
   "execution_count": 37,
   "metadata": {
    "collapsed": true
   },
   "outputs": [],
   "source": [
    "X_train = DDD_Train_Dec4.drop([\"code_presentation\",\"identifier\",\"final_result\"],axis=1)\n",
    "y_train = DDD_Train_Dec4[\"final_result\"]\n",
    "X_test = DDD_Test_Dec4.drop([\"code_presentation\",\"identifier\",\"final_result\"],axis=1)\n",
    "y_test = DDD_Test_Dec4[\"final_result\"]"
   ]
  },
  {
   "cell_type": "code",
   "execution_count": 38,
   "metadata": {},
   "outputs": [
    {
     "name": "stdout",
     "output_type": "stream",
     "text": [
      "              precision    recall  f1-score   support\n",
      "\n",
      "           0       0.57      0.70      0.63       358\n",
      "           1       0.85      0.77      0.81       792\n",
      "\n",
      "   micro avg       0.75      0.75      0.75      1150\n",
      "   macro avg       0.71      0.73      0.72      1150\n",
      "weighted avg       0.76      0.75      0.75      1150\n",
      "\n",
      "0.7452173913043478\n",
      "[[251 107]\n",
      " [186 606]]\n"
     ]
    }
   ],
   "source": [
    "base_model = GaussianNB()\n",
    "base_model.fit(X_train, y_train)\n",
    "\n",
    "predictions = base_model.predict(X_test)\n",
    "\n",
    "print(classification_report(y_test,predictions))\n",
    "print(accuracy_score(y_test, predictions))\n",
    "print(confusion_matrix(y_test, predictions))"
   ]
  },
  {
   "cell_type": "code",
   "execution_count": null,
   "metadata": {
    "collapsed": true
   },
   "outputs": [],
   "source": []
  },
  {
   "cell_type": "markdown",
   "metadata": {},
   "source": [
    "#### DDD Decile 5 NB"
   ]
  },
  {
   "cell_type": "code",
   "execution_count": 39,
   "metadata": {
    "collapsed": true
   },
   "outputs": [],
   "source": [
    "X_train = DDD_Train_Dec5.drop([\"code_presentation\",\"identifier\",\"final_result\"],axis=1)\n",
    "y_train = DDD_Train_Dec5[\"final_result\"]\n",
    "X_test = DDD_Test_Dec5.drop([\"code_presentation\",\"identifier\",\"final_result\"],axis=1)\n",
    "y_test = DDD_Test_Dec5[\"final_result\"]"
   ]
  },
  {
   "cell_type": "code",
   "execution_count": 40,
   "metadata": {},
   "outputs": [
    {
     "name": "stdout",
     "output_type": "stream",
     "text": [
      "              precision    recall  f1-score   support\n",
      "\n",
      "           0       0.68      0.63      0.66       358\n",
      "           1       0.84      0.87      0.85       792\n",
      "\n",
      "   micro avg       0.79      0.79      0.79      1150\n",
      "   macro avg       0.76      0.75      0.75      1150\n",
      "weighted avg       0.79      0.79      0.79      1150\n",
      "\n",
      "0.7930434782608695\n",
      "[[226 132]\n",
      " [106 686]]\n"
     ]
    }
   ],
   "source": [
    "base_model = GaussianNB()\n",
    "base_model.fit(X_train, y_train)\n",
    "\n",
    "predictions = base_model.predict(X_test)\n",
    "\n",
    "print(classification_report(y_test,predictions))\n",
    "print(accuracy_score(y_test, predictions))\n",
    "print(confusion_matrix(y_test, predictions))"
   ]
  },
  {
   "cell_type": "code",
   "execution_count": null,
   "metadata": {
    "collapsed": true
   },
   "outputs": [],
   "source": []
  },
  {
   "cell_type": "markdown",
   "metadata": {},
   "source": [
    "#### DDD Decile 6 NB"
   ]
  },
  {
   "cell_type": "code",
   "execution_count": 41,
   "metadata": {
    "collapsed": true
   },
   "outputs": [],
   "source": [
    "X_train = DDD_Train_Dec6.drop([\"code_presentation\",\"identifier\",\"final_result\"],axis=1)\n",
    "y_train = DDD_Train_Dec6[\"final_result\"]\n",
    "X_test = DDD_Test_Dec6.drop([\"code_presentation\",\"identifier\",\"final_result\"],axis=1)\n",
    "y_test = DDD_Test_Dec6[\"final_result\"]"
   ]
  },
  {
   "cell_type": "code",
   "execution_count": 42,
   "metadata": {},
   "outputs": [
    {
     "name": "stdout",
     "output_type": "stream",
     "text": [
      "              precision    recall  f1-score   support\n",
      "\n",
      "           0       0.71      0.61      0.66       358\n",
      "           1       0.84      0.89      0.86       792\n",
      "\n",
      "   micro avg       0.80      0.80      0.80      1150\n",
      "   macro avg       0.78      0.75      0.76      1150\n",
      "weighted avg       0.80      0.80      0.80      1150\n",
      "\n",
      "0.8034782608695652\n",
      "[[220 138]\n",
      " [ 88 704]]\n"
     ]
    }
   ],
   "source": [
    "base_model = GaussianNB()\n",
    "base_model.fit(X_train, y_train)\n",
    "\n",
    "predictions = base_model.predict(X_test)\n",
    "\n",
    "print(classification_report(y_test,predictions))\n",
    "print(accuracy_score(y_test, predictions))\n",
    "print(confusion_matrix(y_test, predictions))"
   ]
  },
  {
   "cell_type": "code",
   "execution_count": null,
   "metadata": {
    "collapsed": true
   },
   "outputs": [],
   "source": []
  },
  {
   "cell_type": "markdown",
   "metadata": {},
   "source": [
    "#### DDD Decile 7 NB"
   ]
  },
  {
   "cell_type": "code",
   "execution_count": 43,
   "metadata": {
    "collapsed": true
   },
   "outputs": [],
   "source": [
    "X_train = DDD_Train_Dec7.drop([\"code_presentation\",\"identifier\",\"final_result\"],axis=1)\n",
    "y_train = DDD_Train_Dec7[\"final_result\"]\n",
    "X_test = DDD_Test_Dec7.drop([\"code_presentation\",\"identifier\",\"final_result\"],axis=1)\n",
    "y_test = DDD_Test_Dec7[\"final_result\"]"
   ]
  },
  {
   "cell_type": "code",
   "execution_count": 44,
   "metadata": {},
   "outputs": [
    {
     "name": "stdout",
     "output_type": "stream",
     "text": [
      "              precision    recall  f1-score   support\n",
      "\n",
      "           0       0.77      0.61      0.68       358\n",
      "           1       0.84      0.92      0.88       792\n",
      "\n",
      "   micro avg       0.82      0.82      0.82      1150\n",
      "   macro avg       0.80      0.76      0.78      1150\n",
      "weighted avg       0.82      0.82      0.82      1150\n",
      "\n",
      "0.8217391304347826\n",
      "[[218 140]\n",
      " [ 65 727]]\n"
     ]
    }
   ],
   "source": [
    "base_model = GaussianNB()\n",
    "base_model.fit(X_train, y_train)\n",
    "\n",
    "predictions = base_model.predict(X_test)\n",
    "\n",
    "print(classification_report(y_test,predictions))\n",
    "print(accuracy_score(y_test, predictions))\n",
    "print(confusion_matrix(y_test, predictions))"
   ]
  },
  {
   "cell_type": "code",
   "execution_count": null,
   "metadata": {
    "collapsed": true
   },
   "outputs": [],
   "source": []
  },
  {
   "cell_type": "markdown",
   "metadata": {},
   "source": [
    "#### DDD Decile 8 NB"
   ]
  },
  {
   "cell_type": "code",
   "execution_count": 45,
   "metadata": {
    "collapsed": true
   },
   "outputs": [],
   "source": [
    "X_train = DDD_Train_Dec8.drop([\"code_presentation\",\"identifier\",\"final_result\"],axis=1)\n",
    "y_train = DDD_Train_Dec8[\"final_result\"]\n",
    "X_test = DDD_Test_Dec8.drop([\"code_presentation\",\"identifier\",\"final_result\"],axis=1)\n",
    "y_test = DDD_Test_Dec8[\"final_result\"]"
   ]
  },
  {
   "cell_type": "code",
   "execution_count": 46,
   "metadata": {},
   "outputs": [
    {
     "name": "stdout",
     "output_type": "stream",
     "text": [
      "              precision    recall  f1-score   support\n",
      "\n",
      "           0       0.79      0.58      0.67       358\n",
      "           1       0.83      0.93      0.88       792\n",
      "\n",
      "   micro avg       0.82      0.82      0.82      1150\n",
      "   macro avg       0.81      0.76      0.77      1150\n",
      "weighted avg       0.82      0.82      0.81      1150\n",
      "\n",
      "0.8217391304347826\n",
      "[[207 151]\n",
      " [ 54 738]]\n"
     ]
    }
   ],
   "source": [
    "base_model = GaussianNB()\n",
    "base_model.fit(X_train, y_train)\n",
    "\n",
    "predictions = base_model.predict(X_test)\n",
    "\n",
    "print(classification_report(y_test,predictions))\n",
    "print(accuracy_score(y_test, predictions))\n",
    "print(confusion_matrix(y_test, predictions))"
   ]
  },
  {
   "cell_type": "code",
   "execution_count": null,
   "metadata": {
    "collapsed": true
   },
   "outputs": [],
   "source": []
  },
  {
   "cell_type": "markdown",
   "metadata": {},
   "source": [
    "#### DDD Decile 9 NB"
   ]
  },
  {
   "cell_type": "code",
   "execution_count": 47,
   "metadata": {
    "collapsed": true
   },
   "outputs": [],
   "source": [
    "X_train = DDD_Train_Dec9.drop([\"code_presentation\",\"identifier\",\"final_result\"],axis=1)\n",
    "y_train = DDD_Train_Dec9[\"final_result\"]\n",
    "X_test = DDD_Test_Dec9.drop([\"code_presentation\",\"identifier\",\"final_result\"],axis=1)\n",
    "y_test = DDD_Test_Dec9[\"final_result\"]"
   ]
  },
  {
   "cell_type": "code",
   "execution_count": 48,
   "metadata": {},
   "outputs": [
    {
     "name": "stdout",
     "output_type": "stream",
     "text": [
      "              precision    recall  f1-score   support\n",
      "\n",
      "           0       0.81      0.57      0.67       358\n",
      "           1       0.83      0.94      0.88       792\n",
      "\n",
      "   micro avg       0.82      0.82      0.82      1150\n",
      "   macro avg       0.82      0.75      0.77      1150\n",
      "weighted avg       0.82      0.82      0.81      1150\n",
      "\n",
      "0.8243478260869566\n",
      "[[204 154]\n",
      " [ 48 744]]\n"
     ]
    }
   ],
   "source": [
    "base_model = GaussianNB()\n",
    "base_model.fit(X_train, y_train)\n",
    "\n",
    "predictions = base_model.predict(X_test)\n",
    "\n",
    "print(classification_report(y_test,predictions))\n",
    "print(accuracy_score(y_test, predictions))\n",
    "print(confusion_matrix(y_test, predictions))"
   ]
  },
  {
   "cell_type": "code",
   "execution_count": null,
   "metadata": {
    "collapsed": true
   },
   "outputs": [],
   "source": []
  },
  {
   "cell_type": "markdown",
   "metadata": {},
   "source": [
    "#### DDD Decile 10 NB"
   ]
  },
  {
   "cell_type": "code",
   "execution_count": 49,
   "metadata": {
    "collapsed": true
   },
   "outputs": [],
   "source": [
    "X_train = DDD_Train_Dec10.drop([\"code_presentation\",\"identifier\",\"final_result\"],axis=1)\n",
    "y_train = DDD_Train_Dec10[\"final_result\"]\n",
    "X_test = DDD_Test_Dec10.drop([\"code_presentation\",\"identifier\",\"final_result\"],axis=1)\n",
    "y_test = DDD_Test_Dec10[\"final_result\"]"
   ]
  },
  {
   "cell_type": "code",
   "execution_count": 50,
   "metadata": {},
   "outputs": [
    {
     "name": "stdout",
     "output_type": "stream",
     "text": [
      "              precision    recall  f1-score   support\n",
      "\n",
      "           0       0.80      0.64      0.71       358\n",
      "           1       0.85      0.93      0.89       792\n",
      "\n",
      "   micro avg       0.84      0.84      0.84      1150\n",
      "   macro avg       0.82      0.78      0.80      1150\n",
      "weighted avg       0.83      0.84      0.83      1150\n",
      "\n",
      "0.837391304347826\n",
      "[[228 130]\n",
      " [ 57 735]]\n"
     ]
    }
   ],
   "source": [
    "base_model = GaussianNB()\n",
    "base_model.fit(X_train, y_train)\n",
    "\n",
    "predictions = base_model.predict(X_test)\n",
    "\n",
    "print(classification_report(y_test,predictions))\n",
    "print(accuracy_score(y_test, predictions))\n",
    "print(confusion_matrix(y_test, predictions))"
   ]
  },
  {
   "cell_type": "code",
   "execution_count": null,
   "metadata": {
    "collapsed": true
   },
   "outputs": [],
   "source": []
  },
  {
   "cell_type": "code",
   "execution_count": null,
   "metadata": {
    "collapsed": true
   },
   "outputs": [],
   "source": []
  },
  {
   "cell_type": "markdown",
   "metadata": {},
   "source": [
    "### Course FFF NB"
   ]
  },
  {
   "cell_type": "markdown",
   "metadata": {},
   "source": [
    "#### FFF Decile 0 NB"
   ]
  },
  {
   "cell_type": "code",
   "execution_count": 51,
   "metadata": {
    "collapsed": true
   },
   "outputs": [],
   "source": [
    "X_train = FFF_Train_Dec0.drop([\"code_presentation\",\"identifier\",\"final_result\"],axis=1)\n",
    "y_train = FFF_Train_Dec0[\"final_result\"]\n",
    "X_test = FFF_Test_Dec0.drop([\"code_presentation\",\"identifier\",\"final_result\"],axis=1)\n",
    "y_test = FFF_Test_Dec0[\"final_result\"]"
   ]
  },
  {
   "cell_type": "code",
   "execution_count": 52,
   "metadata": {},
   "outputs": [
    {
     "name": "stdout",
     "output_type": "stream",
     "text": [
      "              precision    recall  f1-score   support\n",
      "\n",
      "           0       0.27      0.93      0.42       387\n",
      "           1       0.86      0.15      0.25      1117\n",
      "\n",
      "   micro avg       0.35      0.35      0.35      1504\n",
      "   macro avg       0.57      0.54      0.34      1504\n",
      "weighted avg       0.71      0.35      0.29      1504\n",
      "\n",
      "0.3484042553191489\n",
      "[[361  26]\n",
      " [954 163]]\n"
     ]
    }
   ],
   "source": [
    "base_model = GaussianNB()\n",
    "base_model.fit(X_train, y_train)\n",
    "\n",
    "predictions = base_model.predict(X_test)\n",
    "\n",
    "print(classification_report(y_test,predictions))\n",
    "print(accuracy_score(y_test, predictions))\n",
    "print(confusion_matrix(y_test, predictions))"
   ]
  },
  {
   "cell_type": "code",
   "execution_count": null,
   "metadata": {
    "collapsed": true
   },
   "outputs": [],
   "source": []
  },
  {
   "cell_type": "markdown",
   "metadata": {},
   "source": [
    "#### FFF Decile 1 NB"
   ]
  },
  {
   "cell_type": "code",
   "execution_count": 53,
   "metadata": {
    "collapsed": true
   },
   "outputs": [],
   "source": [
    "X_train = FFF_Train_Dec1.drop([\"code_presentation\",\"identifier\",\"final_result\"],axis=1)\n",
    "y_train = FFF_Train_Dec1[\"final_result\"]\n",
    "X_test = FFF_Test_Dec1.drop([\"code_presentation\",\"identifier\",\"final_result\"],axis=1)\n",
    "y_test = FFF_Test_Dec1[\"final_result\"]"
   ]
  },
  {
   "cell_type": "code",
   "execution_count": 54,
   "metadata": {},
   "outputs": [
    {
     "name": "stdout",
     "output_type": "stream",
     "text": [
      "              precision    recall  f1-score   support\n",
      "\n",
      "           0       0.31      0.88      0.46       387\n",
      "           1       0.88      0.31      0.46      1117\n",
      "\n",
      "   micro avg       0.46      0.46      0.46      1504\n",
      "   macro avg       0.60      0.60      0.46      1504\n",
      "weighted avg       0.74      0.46      0.46      1504\n",
      "\n",
      "0.45811170212765956\n",
      "[[341  46]\n",
      " [769 348]]\n"
     ]
    }
   ],
   "source": [
    "base_model = GaussianNB()\n",
    "base_model.fit(X_train, y_train)\n",
    "\n",
    "predictions = base_model.predict(X_test)\n",
    "\n",
    "print(classification_report(y_test,predictions))\n",
    "print(accuracy_score(y_test, predictions))\n",
    "print(confusion_matrix(y_test, predictions))"
   ]
  },
  {
   "cell_type": "code",
   "execution_count": null,
   "metadata": {
    "collapsed": true
   },
   "outputs": [],
   "source": []
  },
  {
   "cell_type": "markdown",
   "metadata": {},
   "source": [
    "#### FFF Decile 2 NB"
   ]
  },
  {
   "cell_type": "code",
   "execution_count": 55,
   "metadata": {
    "collapsed": true
   },
   "outputs": [],
   "source": [
    "X_train = FFF_Train_Dec2.drop([\"code_presentation\",\"identifier\",\"final_result\"],axis=1)\n",
    "y_train = FFF_Train_Dec2[\"final_result\"]\n",
    "X_test = FFF_Test_Dec2.drop([\"code_presentation\",\"identifier\",\"final_result\"],axis=1)\n",
    "y_test = FFF_Test_Dec2[\"final_result\"]"
   ]
  },
  {
   "cell_type": "code",
   "execution_count": 56,
   "metadata": {},
   "outputs": [
    {
     "name": "stdout",
     "output_type": "stream",
     "text": [
      "              precision    recall  f1-score   support\n",
      "\n",
      "           0       0.43      0.74      0.54       387\n",
      "           1       0.88      0.66      0.75      1117\n",
      "\n",
      "   micro avg       0.68      0.68      0.68      1504\n",
      "   macro avg       0.65      0.70      0.65      1504\n",
      "weighted avg       0.76      0.68      0.70      1504\n",
      "\n",
      "0.6795212765957447\n",
      "[[286 101]\n",
      " [381 736]]\n"
     ]
    }
   ],
   "source": [
    "base_model = GaussianNB()\n",
    "base_model.fit(X_train, y_train)\n",
    "\n",
    "predictions = base_model.predict(X_test)\n",
    "\n",
    "print(classification_report(y_test,predictions))\n",
    "print(accuracy_score(y_test, predictions))\n",
    "print(confusion_matrix(y_test, predictions))"
   ]
  },
  {
   "cell_type": "code",
   "execution_count": null,
   "metadata": {
    "collapsed": true
   },
   "outputs": [],
   "source": []
  },
  {
   "cell_type": "markdown",
   "metadata": {},
   "source": [
    "#### FFF Decile 3 NB"
   ]
  },
  {
   "cell_type": "code",
   "execution_count": 57,
   "metadata": {
    "collapsed": true
   },
   "outputs": [],
   "source": [
    "X_train = FFF_Train_Dec3.drop([\"code_presentation\",\"identifier\",\"final_result\"],axis=1)\n",
    "y_train = FFF_Train_Dec3[\"final_result\"]\n",
    "X_test = FFF_Test_Dec3.drop([\"code_presentation\",\"identifier\",\"final_result\"],axis=1)\n",
    "y_test = FFF_Test_Dec3[\"final_result\"]"
   ]
  },
  {
   "cell_type": "code",
   "execution_count": 58,
   "metadata": {},
   "outputs": [
    {
     "name": "stdout",
     "output_type": "stream",
     "text": [
      "              precision    recall  f1-score   support\n",
      "\n",
      "           0       0.55      0.67      0.60       387\n",
      "           1       0.88      0.81      0.84      1117\n",
      "\n",
      "   micro avg       0.77      0.77      0.77      1504\n",
      "   macro avg       0.71      0.74      0.72      1504\n",
      "weighted avg       0.79      0.77      0.78      1504\n",
      "\n",
      "0.7719414893617021\n",
      "[[258 129]\n",
      " [214 903]]\n"
     ]
    }
   ],
   "source": [
    "base_model = GaussianNB()\n",
    "base_model.fit(X_train, y_train)\n",
    "\n",
    "predictions = base_model.predict(X_test)\n",
    "\n",
    "print(classification_report(y_test,predictions))\n",
    "print(accuracy_score(y_test, predictions))\n",
    "print(confusion_matrix(y_test, predictions))"
   ]
  },
  {
   "cell_type": "code",
   "execution_count": null,
   "metadata": {
    "collapsed": true
   },
   "outputs": [],
   "source": []
  },
  {
   "cell_type": "markdown",
   "metadata": {},
   "source": [
    "#### FFF Decile 4 NB"
   ]
  },
  {
   "cell_type": "code",
   "execution_count": 59,
   "metadata": {
    "collapsed": true
   },
   "outputs": [],
   "source": [
    "X_train = FFF_Train_Dec4.drop([\"code_presentation\",\"identifier\",\"final_result\"],axis=1)\n",
    "y_train = FFF_Train_Dec4[\"final_result\"]\n",
    "X_test = FFF_Test_Dec4.drop([\"code_presentation\",\"identifier\",\"final_result\"],axis=1)\n",
    "y_test = FFF_Test_Dec4[\"final_result\"]"
   ]
  },
  {
   "cell_type": "code",
   "execution_count": 60,
   "metadata": {},
   "outputs": [
    {
     "name": "stdout",
     "output_type": "stream",
     "text": [
      "              precision    recall  f1-score   support\n",
      "\n",
      "           0       0.58      0.65      0.61       387\n",
      "           1       0.87      0.84      0.86      1117\n",
      "\n",
      "   micro avg       0.79      0.79      0.79      1504\n",
      "   macro avg       0.73      0.74      0.73      1504\n",
      "weighted avg       0.80      0.79      0.79      1504\n",
      "\n",
      "0.7892287234042553\n",
      "[[250 137]\n",
      " [180 937]]\n"
     ]
    }
   ],
   "source": [
    "base_model = GaussianNB()\n",
    "base_model.fit(X_train, y_train)\n",
    "\n",
    "predictions = base_model.predict(X_test)\n",
    "\n",
    "print(classification_report(y_test,predictions))\n",
    "print(accuracy_score(y_test, predictions))\n",
    "print(confusion_matrix(y_test, predictions))"
   ]
  },
  {
   "cell_type": "code",
   "execution_count": null,
   "metadata": {
    "collapsed": true
   },
   "outputs": [],
   "source": []
  },
  {
   "cell_type": "markdown",
   "metadata": {},
   "source": [
    "#### FFF Decile 5 NB"
   ]
  },
  {
   "cell_type": "code",
   "execution_count": 61,
   "metadata": {
    "collapsed": true
   },
   "outputs": [],
   "source": [
    "X_train = FFF_Train_Dec5.drop([\"code_presentation\",\"identifier\",\"final_result\"],axis=1)\n",
    "y_train = FFF_Train_Dec5[\"final_result\"]\n",
    "X_test = FFF_Test_Dec5.drop([\"code_presentation\",\"identifier\",\"final_result\"],axis=1)\n",
    "y_test = FFF_Test_Dec5[\"final_result\"]"
   ]
  },
  {
   "cell_type": "code",
   "execution_count": 62,
   "metadata": {},
   "outputs": [
    {
     "name": "stdout",
     "output_type": "stream",
     "text": [
      "              precision    recall  f1-score   support\n",
      "\n",
      "           0       0.62      0.66      0.64       387\n",
      "           1       0.88      0.86      0.87      1117\n",
      "\n",
      "   micro avg       0.81      0.81      0.81      1504\n",
      "   macro avg       0.75      0.76      0.75      1504\n",
      "weighted avg       0.81      0.81      0.81      1504\n",
      "\n",
      "0.807845744680851\n",
      "[[257 130]\n",
      " [159 958]]\n"
     ]
    }
   ],
   "source": [
    "base_model = GaussianNB()\n",
    "base_model.fit(X_train, y_train)\n",
    "\n",
    "predictions = base_model.predict(X_test)\n",
    "\n",
    "print(classification_report(y_test,predictions))\n",
    "print(accuracy_score(y_test, predictions))\n",
    "print(confusion_matrix(y_test, predictions))"
   ]
  },
  {
   "cell_type": "code",
   "execution_count": null,
   "metadata": {
    "collapsed": true
   },
   "outputs": [],
   "source": []
  },
  {
   "cell_type": "markdown",
   "metadata": {},
   "source": [
    "#### FFF Decile 6 NB"
   ]
  },
  {
   "cell_type": "code",
   "execution_count": 63,
   "metadata": {
    "collapsed": true
   },
   "outputs": [],
   "source": [
    "X_train = FFF_Train_Dec6.drop([\"code_presentation\",\"identifier\",\"final_result\"],axis=1)\n",
    "y_train = FFF_Train_Dec6[\"final_result\"]\n",
    "X_test = FFF_Test_Dec6.drop([\"code_presentation\",\"identifier\",\"final_result\"],axis=1)\n",
    "y_test = FFF_Test_Dec6[\"final_result\"]"
   ]
  },
  {
   "cell_type": "code",
   "execution_count": 64,
   "metadata": {},
   "outputs": [
    {
     "name": "stdout",
     "output_type": "stream",
     "text": [
      "              precision    recall  f1-score   support\n",
      "\n",
      "           0       0.66      0.70      0.68       387\n",
      "           1       0.89      0.88      0.89      1117\n",
      "\n",
      "   micro avg       0.83      0.83      0.83      1504\n",
      "   macro avg       0.78      0.79      0.78      1504\n",
      "weighted avg       0.83      0.83      0.83      1504\n",
      "\n",
      "0.8311170212765957\n",
      "[[271 116]\n",
      " [138 979]]\n"
     ]
    }
   ],
   "source": [
    "base_model = GaussianNB()\n",
    "base_model.fit(X_train, y_train)\n",
    "\n",
    "predictions = base_model.predict(X_test)\n",
    "\n",
    "print(classification_report(y_test,predictions))\n",
    "print(accuracy_score(y_test, predictions))\n",
    "print(confusion_matrix(y_test, predictions))"
   ]
  },
  {
   "cell_type": "code",
   "execution_count": null,
   "metadata": {
    "collapsed": true
   },
   "outputs": [],
   "source": []
  },
  {
   "cell_type": "markdown",
   "metadata": {},
   "source": [
    "#### FFF Decile 7 NB"
   ]
  },
  {
   "cell_type": "code",
   "execution_count": 65,
   "metadata": {
    "collapsed": true
   },
   "outputs": [],
   "source": [
    "X_train = FFF_Train_Dec7.drop([\"code_presentation\",\"identifier\",\"final_result\"],axis=1)\n",
    "y_train = FFF_Train_Dec7[\"final_result\"]\n",
    "X_test = FFF_Test_Dec7.drop([\"code_presentation\",\"identifier\",\"final_result\"],axis=1)\n",
    "y_test = FFF_Test_Dec7[\"final_result\"]"
   ]
  },
  {
   "cell_type": "code",
   "execution_count": 66,
   "metadata": {},
   "outputs": [
    {
     "name": "stdout",
     "output_type": "stream",
     "text": [
      "              precision    recall  f1-score   support\n",
      "\n",
      "           0       0.67      0.71      0.69       387\n",
      "           1       0.90      0.88      0.89      1117\n",
      "\n",
      "   micro avg       0.84      0.84      0.84      1504\n",
      "   macro avg       0.78      0.80      0.79      1504\n",
      "weighted avg       0.84      0.84      0.84      1504\n",
      "\n",
      "0.8357712765957447\n",
      "[[276 111]\n",
      " [136 981]]\n"
     ]
    }
   ],
   "source": [
    "base_model = GaussianNB()\n",
    "base_model.fit(X_train, y_train)\n",
    "\n",
    "predictions = base_model.predict(X_test)\n",
    "\n",
    "print(classification_report(y_test,predictions))\n",
    "print(accuracy_score(y_test, predictions))\n",
    "print(confusion_matrix(y_test, predictions))"
   ]
  },
  {
   "cell_type": "code",
   "execution_count": null,
   "metadata": {
    "collapsed": true
   },
   "outputs": [],
   "source": []
  },
  {
   "cell_type": "markdown",
   "metadata": {},
   "source": [
    "#### FFF Decile 8 NB"
   ]
  },
  {
   "cell_type": "code",
   "execution_count": 67,
   "metadata": {
    "collapsed": true
   },
   "outputs": [],
   "source": [
    "X_train = FFF_Train_Dec8.drop([\"code_presentation\",\"identifier\",\"final_result\"],axis=1)\n",
    "y_train = FFF_Train_Dec8[\"final_result\"]\n",
    "X_test = FFF_Test_Dec8.drop([\"code_presentation\",\"identifier\",\"final_result\"],axis=1)\n",
    "y_test = FFF_Test_Dec8[\"final_result\"]"
   ]
  },
  {
   "cell_type": "code",
   "execution_count": 68,
   "metadata": {},
   "outputs": [
    {
     "name": "stdout",
     "output_type": "stream",
     "text": [
      "              precision    recall  f1-score   support\n",
      "\n",
      "           0       0.68      0.72      0.70       387\n",
      "           1       0.90      0.88      0.89      1117\n",
      "\n",
      "   micro avg       0.84      0.84      0.84      1504\n",
      "   macro avg       0.79      0.80      0.79      1504\n",
      "weighted avg       0.84      0.84      0.84      1504\n",
      "\n",
      "0.839095744680851\n",
      "[[278 109]\n",
      " [133 984]]\n"
     ]
    }
   ],
   "source": [
    "base_model = GaussianNB()\n",
    "base_model.fit(X_train, y_train)\n",
    "\n",
    "predictions = base_model.predict(X_test)\n",
    "\n",
    "print(classification_report(y_test,predictions))\n",
    "print(accuracy_score(y_test, predictions))\n",
    "print(confusion_matrix(y_test, predictions))"
   ]
  },
  {
   "cell_type": "code",
   "execution_count": null,
   "metadata": {
    "collapsed": true
   },
   "outputs": [],
   "source": []
  },
  {
   "cell_type": "markdown",
   "metadata": {},
   "source": [
    "#### FFF Decile 9 NB"
   ]
  },
  {
   "cell_type": "code",
   "execution_count": 69,
   "metadata": {
    "collapsed": true
   },
   "outputs": [],
   "source": [
    "X_train = FFF_Train_Dec9.drop([\"code_presentation\",\"identifier\",\"final_result\"],axis=1)\n",
    "y_train = FFF_Train_Dec9[\"final_result\"]\n",
    "X_test = FFF_Test_Dec9.drop([\"code_presentation\",\"identifier\",\"final_result\"],axis=1)\n",
    "y_test = FFF_Test_Dec9[\"final_result\"]"
   ]
  },
  {
   "cell_type": "code",
   "execution_count": 70,
   "metadata": {},
   "outputs": [
    {
     "name": "stdout",
     "output_type": "stream",
     "text": [
      "              precision    recall  f1-score   support\n",
      "\n",
      "           0       0.71      0.75      0.73       387\n",
      "           1       0.91      0.90      0.90      1117\n",
      "\n",
      "   micro avg       0.86      0.86      0.86      1504\n",
      "   macro avg       0.81      0.82      0.82      1504\n",
      "weighted avg       0.86      0.86      0.86      1504\n",
      "\n",
      "0.8583776595744681\n",
      "[[ 291   96]\n",
      " [ 117 1000]]\n"
     ]
    }
   ],
   "source": [
    "base_model = GaussianNB()\n",
    "base_model.fit(X_train, y_train)\n",
    "\n",
    "predictions = base_model.predict(X_test)\n",
    "\n",
    "print(classification_report(y_test,predictions))\n",
    "print(accuracy_score(y_test, predictions))\n",
    "print(confusion_matrix(y_test, predictions))"
   ]
  },
  {
   "cell_type": "code",
   "execution_count": null,
   "metadata": {
    "collapsed": true
   },
   "outputs": [],
   "source": []
  },
  {
   "cell_type": "markdown",
   "metadata": {},
   "source": [
    "#### FFF Decile 10 NB"
   ]
  },
  {
   "cell_type": "code",
   "execution_count": 71,
   "metadata": {
    "collapsed": true
   },
   "outputs": [],
   "source": [
    "X_train = FFF_Train_Dec10.drop([\"code_presentation\",\"identifier\",\"final_result\"],axis=1)\n",
    "y_train = FFF_Train_Dec10[\"final_result\"]\n",
    "X_test = FFF_Test_Dec10.drop([\"code_presentation\",\"identifier\",\"final_result\"],axis=1)\n",
    "y_test = FFF_Test_Dec10[\"final_result\"]"
   ]
  },
  {
   "cell_type": "code",
   "execution_count": 72,
   "metadata": {},
   "outputs": [
    {
     "name": "stdout",
     "output_type": "stream",
     "text": [
      "              precision    recall  f1-score   support\n",
      "\n",
      "           0       0.79      0.76      0.77       387\n",
      "           1       0.92      0.93      0.92      1117\n",
      "\n",
      "   micro avg       0.88      0.88      0.88      1504\n",
      "   macro avg       0.85      0.84      0.85      1504\n",
      "weighted avg       0.88      0.88      0.88      1504\n",
      "\n",
      "0.8843085106382979\n",
      "[[ 293   94]\n",
      " [  80 1037]]\n"
     ]
    }
   ],
   "source": [
    "base_model = GaussianNB()\n",
    "base_model.fit(X_train, y_train)\n",
    "\n",
    "predictions = base_model.predict(X_test)\n",
    "\n",
    "print(classification_report(y_test,predictions))\n",
    "print(accuracy_score(y_test, predictions))\n",
    "print(confusion_matrix(y_test, predictions))"
   ]
  },
  {
   "cell_type": "code",
   "execution_count": null,
   "metadata": {
    "collapsed": true
   },
   "outputs": [],
   "source": []
  },
  {
   "cell_type": "code",
   "execution_count": null,
   "metadata": {
    "collapsed": true
   },
   "outputs": [],
   "source": []
  }
 ],
 "metadata": {
  "kernelspec": {
   "display_name": "Python 3",
   "language": "python",
   "name": "python3"
  },
  "language_info": {
   "codemirror_mode": {
    "name": "ipython",
    "version": 3
   },
   "file_extension": ".py",
   "mimetype": "text/x-python",
   "name": "python",
   "nbconvert_exporter": "python",
   "pygments_lexer": "ipython3",
   "version": "3.6.3"
  }
 },
 "nbformat": 4,
 "nbformat_minor": 2
}
